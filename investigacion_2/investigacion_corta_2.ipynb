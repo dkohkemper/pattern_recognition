{
 "cells": [
  {
   "cell_type": "markdown",
   "metadata": {},
   "source": [
    "# **Reconocimiento de Patrones - Investigación Corta 2**\n",
    "# Ing. Daniel Kohkemper\n",
    "\n",
    "## Introducción\n",
    "\n",
    "En este notebook se escoge un conjunto de datos para el análisis de diferentes métodos de aprendizaje supervisado, para poder cuantificar y comparar la efectividad de cada método en la clasificación de las clases del conjunto de datos. Los métodos que se van a comprobar son:\n",
    "\n",
    "1. k-Nearest Neighbors (kNN)\n",
    "2. Linear Regression\n",
    "3. Support Vector Machines (SVM)\n",
    "4. Decision Trees\n",
    "5. TBD\n",
    "6. AdaBoost (método de ensamble)\n",
    "\n",
    "Se explicarán los detalles del conjunto de datos elegido y los resultados generales de cada método así como una discusión de cuál se desempaña mejor.\n",
    "\n",
    "## Dataset\n",
    "\n",
    "Para esta investigación se utiliza el dataset \"Wine Data Set\", encontrado en el repositorio de UCI [1], el cual es el resultado de un análisis de tres vinos desarrollados en la misma región de Italia pero de diferentes productores. El análisis determina las cantidades de 13 constituyentes, los cuales son en inglés:\n",
    "\n",
    "1. Alcohol \n",
    "2. Malic acid \n",
    "3. Ash \n",
    "4. Alcalinity of ash \n",
    "5. Magnesium \n",
    "6. Total phenols \n",
    "7. Flavanoids \n",
    "8. Nonflavanoid phenols \n",
    "9. Proanthocyanins \n",
    "10. Color intensity \n",
    "11. Hue \n",
    "12. OD280/OD315 of diluted wines \n",
    "13. Proline\n",
    "\n",
    "Existen diversas publicaciones que citan este dataset, por lo que la posibilidad de comparar los resultados con otros trabajos es amplia. A continuación se realizará el procesamiento del dataset así como la implementación de cada método mencionado anteriormente.\n",
    "\n",
    "## Métricas de desempeño\n",
    "\n",
    "Para más detalles sobre las diferentes métricas de desempeño, se recomienda consultar [7]."
   ]
  },
  {
   "cell_type": "markdown",
   "metadata": {},
   "source": [
    "## Preprocesamiento y visualización del dataset\n",
    "\n",
    "Aquí se importan las bibliotecas necesarias para el resto del trabajo, así como se carga también el dataset desde el URL del mismo y se eliminan las muestras que sean necesarias para limpiar los datos."
   ]
  },
  {
   "cell_type": "code",
   "execution_count": 1,
   "metadata": {
    "scrolled": false
   },
   "outputs": [
    {
     "data": {
      "text/html": [
       "<div>\n",
       "<style scoped>\n",
       "    .dataframe tbody tr th:only-of-type {\n",
       "        vertical-align: middle;\n",
       "    }\n",
       "\n",
       "    .dataframe tbody tr th {\n",
       "        vertical-align: top;\n",
       "    }\n",
       "\n",
       "    .dataframe thead th {\n",
       "        text-align: right;\n",
       "    }\n",
       "</style>\n",
       "<table border=\"1\" class=\"dataframe\">\n",
       "  <thead>\n",
       "    <tr style=\"text-align: right;\">\n",
       "      <th></th>\n",
       "      <th>class</th>\n",
       "      <th>alcohol</th>\n",
       "      <th>malic acid</th>\n",
       "      <th>ash</th>\n",
       "      <th>alcalinity of ash</th>\n",
       "      <th>magnesium</th>\n",
       "      <th>total phenols</th>\n",
       "      <th>flavanoids</th>\n",
       "      <th>nonflavanoid phenols</th>\n",
       "      <th>Proanthocyanins</th>\n",
       "      <th>color intensity</th>\n",
       "      <th>hue</th>\n",
       "      <th>OD280/OD315 of diluted wines</th>\n",
       "      <th>proline</th>\n",
       "    </tr>\n",
       "  </thead>\n",
       "  <tbody>\n",
       "    <tr>\n",
       "      <th>0</th>\n",
       "      <td>1</td>\n",
       "      <td>14.23</td>\n",
       "      <td>1.71</td>\n",
       "      <td>2.43</td>\n",
       "      <td>15.6</td>\n",
       "      <td>127</td>\n",
       "      <td>2.80</td>\n",
       "      <td>3.06</td>\n",
       "      <td>0.28</td>\n",
       "      <td>2.29</td>\n",
       "      <td>5.64</td>\n",
       "      <td>1.04</td>\n",
       "      <td>3.92</td>\n",
       "      <td>1065</td>\n",
       "    </tr>\n",
       "    <tr>\n",
       "      <th>1</th>\n",
       "      <td>1</td>\n",
       "      <td>13.20</td>\n",
       "      <td>1.78</td>\n",
       "      <td>2.14</td>\n",
       "      <td>11.2</td>\n",
       "      <td>100</td>\n",
       "      <td>2.65</td>\n",
       "      <td>2.76</td>\n",
       "      <td>0.26</td>\n",
       "      <td>1.28</td>\n",
       "      <td>4.38</td>\n",
       "      <td>1.05</td>\n",
       "      <td>3.40</td>\n",
       "      <td>1050</td>\n",
       "    </tr>\n",
       "    <tr>\n",
       "      <th>2</th>\n",
       "      <td>1</td>\n",
       "      <td>13.16</td>\n",
       "      <td>2.36</td>\n",
       "      <td>2.67</td>\n",
       "      <td>18.6</td>\n",
       "      <td>101</td>\n",
       "      <td>2.80</td>\n",
       "      <td>3.24</td>\n",
       "      <td>0.30</td>\n",
       "      <td>2.81</td>\n",
       "      <td>5.68</td>\n",
       "      <td>1.03</td>\n",
       "      <td>3.17</td>\n",
       "      <td>1185</td>\n",
       "    </tr>\n",
       "    <tr>\n",
       "      <th>3</th>\n",
       "      <td>1</td>\n",
       "      <td>14.37</td>\n",
       "      <td>1.95</td>\n",
       "      <td>2.50</td>\n",
       "      <td>16.8</td>\n",
       "      <td>113</td>\n",
       "      <td>3.85</td>\n",
       "      <td>3.49</td>\n",
       "      <td>0.24</td>\n",
       "      <td>2.18</td>\n",
       "      <td>7.80</td>\n",
       "      <td>0.86</td>\n",
       "      <td>3.45</td>\n",
       "      <td>1480</td>\n",
       "    </tr>\n",
       "    <tr>\n",
       "      <th>4</th>\n",
       "      <td>1</td>\n",
       "      <td>13.24</td>\n",
       "      <td>2.59</td>\n",
       "      <td>2.87</td>\n",
       "      <td>21.0</td>\n",
       "      <td>118</td>\n",
       "      <td>2.80</td>\n",
       "      <td>2.69</td>\n",
       "      <td>0.39</td>\n",
       "      <td>1.82</td>\n",
       "      <td>4.32</td>\n",
       "      <td>1.04</td>\n",
       "      <td>2.93</td>\n",
       "      <td>735</td>\n",
       "    </tr>\n",
       "  </tbody>\n",
       "</table>\n",
       "</div>"
      ],
      "text/plain": [
       "   class  alcohol  malic acid   ash  alcalinity of ash  magnesium  \\\n",
       "0      1    14.23        1.71  2.43               15.6        127   \n",
       "1      1    13.20        1.78  2.14               11.2        100   \n",
       "2      1    13.16        2.36  2.67               18.6        101   \n",
       "3      1    14.37        1.95  2.50               16.8        113   \n",
       "4      1    13.24        2.59  2.87               21.0        118   \n",
       "\n",
       "   total phenols  flavanoids  nonflavanoid phenols  Proanthocyanins  \\\n",
       "0           2.80        3.06                  0.28             2.29   \n",
       "1           2.65        2.76                  0.26             1.28   \n",
       "2           2.80        3.24                  0.30             2.81   \n",
       "3           3.85        3.49                  0.24             2.18   \n",
       "4           2.80        2.69                  0.39             1.82   \n",
       "\n",
       "   color intensity   hue  OD280/OD315 of diluted wines  proline  \n",
       "0             5.64  1.04                          3.92     1065  \n",
       "1             4.38  1.05                          3.40     1050  \n",
       "2             5.68  1.03                          3.17     1185  \n",
       "3             7.80  0.86                          3.45     1480  \n",
       "4             4.32  1.04                          2.93      735  "
      ]
     },
     "execution_count": 1,
     "metadata": {},
     "output_type": "execute_result"
    }
   ],
   "source": [
    "# Import necessary libraries\n",
    "import pandas as pd\n",
    "import numpy as np\n",
    "import matplotlib.pyplot as plt\n",
    "\n",
    "#from sklearn.decomposition import PCA\n",
    "#from sklearn import preprocessing\n",
    "#from sklearn.model_selection import train_test_split\n",
    "#import matplotlib.pyplot as plt\n",
    "#from IPython.display import Image\n",
    "#from sklearn.neighbors import KNeighborsClassifier\n",
    "#from sklearn.model_selection import ShuffleSplit\n",
    "#from sklearn.preprocessing import scale\n",
    "#from sklearn import datasets, linear_model\n",
    "\n",
    "# Se apagan los warnings para evitar las alertas de posibles cambios de versión en Python3\n",
    "import warnings\n",
    "warnings.filterwarnings('ignore', category=UserWarning, append=True)\n",
    "\n",
    "# URL address of data set\n",
    "url = \"https://archive.ics.uci.edu/ml/machine-learning-databases/wine/wine.data\"\n",
    "\n",
    "# Define header of dataset, obtain this information from dataset information\n",
    "header = ['class', 'alcohol', 'malic acid', 'ash', 'alcalinity of ash', 'magnesium', 'total phenols', 'flavanoids', 'nonflavanoid phenols', 'Proanthocyanins', 'color intensity', 'hue', 'OD280/OD315 of diluted wines', 'proline']\n",
    "\n",
    "# load dataset as csv file\n",
    "df = pd.read_csv(url, names=header)\n",
    "\n",
    "# if dataset has '?' in it, convert these into NaN\n",
    "df = df.replace('?', np.nan)\n",
    "# drop the NaN\n",
    "df = df.dropna(axis=0, how=\"any\")\n",
    "\n",
    "# Print some values of the data set\n",
    "df.head(5)"
   ]
  },
  {
   "cell_type": "markdown",
   "metadata": {},
   "source": [
    "A continuación se muestra un histograma en el cual se observa la variación de cada atributo del dataset. Cabe mencionar que distintos atributos pueden tener diferentes ordenes de magnitud en su variación."
   ]
  },
  {
   "cell_type": "code",
   "execution_count": 2,
   "metadata": {
    "scrolled": false
   },
   "outputs": [
    {
     "data": {
      "image/png": "[encoded data removed]",
      "text/plain": [
       "<Figure size 1440x1440 with 16 Axes>"
      ]
     },
     "metadata": {},
     "output_type": "display_data"
    }
   ],
   "source": [
    "%matplotlib inline\n",
    "#import matplotlib.pyplot as plt\n",
    "plt.style.use('ggplot')\n",
    "pd.DataFrame.hist(df, figsize = [20,20]);"
   ]
  },
  {
   "cell_type": "markdown",
   "metadata": {},
   "source": [
    "## Partición del set de entrenamiento y prueba\n",
    "\n",
    "Para poder implementar los modelos de aprendizaje supervisado, es necesario generar primeramente un set de datos de entrenamiento y de prueba [2][3]."
   ]
  },
  {
   "cell_type": "code",
   "execution_count": 3,
   "metadata": {},
   "outputs": [],
   "source": [
    "from sklearn.model_selection import train_test_split\n",
    "\n",
    "# Make a list of features only\n",
    "features = ['alcohol', 'malic acid', 'ash', 'alcalinity of ash', 'magnesium', 'total phenols', 'flavanoids', 'nonflavanoid phenols', 'Proanthocyanins', 'color intensity', 'hue', 'OD280/OD315 of diluted wines', 'proline']\n",
    "\n",
    "# Separate features from class(es)\n",
    "input_features = df.loc[:,features].values\n",
    "output_class   = df.loc[:,['class']].values\n",
    "# Squeeze output into one single column\n",
    "output_class = output_class.ravel()\n",
    "\n",
    "# Separate data intro training and test sets\n",
    "x_train, x_test, y_train, y_test = train_test_split(input_features, output_class, test_size=0.20, random_state=50)"
   ]
  },
  {
   "cell_type": "markdown",
   "metadata": {},
   "source": [
    "A continuación se procede a implementar los métodos señalados anteriormente.\n",
    "\n",
    "## 1. k-Nearest Neighbors\n",
    "\n",
    "Este algoritmo clasifica una muestra de acuerdo a sus k vecinos más próximos, en donde este valor puede ser variado acordemente. En la siguiente figura [4] si k es 3, se clasifica la muestra como triángulo, en cambio si *k* es 5, se clasifica la muestra como cuadrado.\n",
    "\n",
    "![bla](https://s3.amazonaws.com/assets.datacamp.com/blog_assets/knn.png)\n",
    "\n",
    "Para generar un modelo, es necesario primeramente separar los datos en un conjunto de entrenamiento y otro de prueba. Para esto es necesario crear unas nuevas listas, donde una contenga únicamente los atributos (*features*) y la otra contenga la o las clases. Usualmente, para este propósito se destina un 80% de las muestras para entrenamiento y 20% para pruebas, aunque es posible utilizar de igual manera 25% y 75%. Con valores menores a 20% o mayores a 30% para el conjunto de prueba, el puntaje de certeza empeora.\n",
    "\n",
    "Después de haber separado el conjunto de datos en entrenamiento y prueba, es necesario generar el modelo kNN mediante el método `neighbors.KNeighborsClassifier`, en el cual se pueden ajustar los parámetros del algoritmo. Para visualizar los mismos, es necesario invocar a `neighbors.get_params`. Finalmente se ajusta el modelo con los datos de entrenamiento mediante `neighbors.fit`, con el cual se puede observar el puntaje de certeza con `neighbors.score`."
   ]
  },
  {
   "cell_type": "code",
   "execution_count": 4,
   "metadata": {},
   "outputs": [
    {
     "name": "stdout",
     "output_type": "stream",
     "text": [
      "k-NN accuracy for train set: 0.816901\n",
      "k-NN accuracy for test set: 0.694444\n"
     ]
    },
    {
     "data": {
      "text/plain": [
       "{'algorithm': 'auto',\n",
       " 'leaf_size': 30,\n",
       " 'metric': 'minkowski',\n",
       " 'metric_params': None,\n",
       " 'n_jobs': None,\n",
       " 'n_neighbors': 4,\n",
       " 'p': 2,\n",
       " 'weights': 'uniform'}"
      ]
     },
     "execution_count": 4,
     "metadata": {},
     "output_type": "execute_result"
    }
   ],
   "source": [
    "from sklearn import neighbors\n",
    "\n",
    "# Generate kNN model\n",
    "knn = neighbors.KNeighborsClassifier(n_neighbors = 4)\n",
    "# Fit the model using x_train as training data and y_train as target values\n",
    "knn_model_1 = knn.fit(x_train, y_train)\n",
    "\n",
    "# Print accuracy scores\n",
    "print('k-NN accuracy for train set: %f' % knn_model_1.score(x_train, y_train))\n",
    "print('k-NN accuracy for test set: %f'  % knn_model_1.score(x_test, y_test))\n",
    "\n",
    "# Get parameters of model\n",
    "knn.get_params()"
   ]
  },
  {
   "cell_type": "markdown",
   "metadata": {},
   "source": [
    "Es posible además observar un reporte de otras métricas de certeza. Cabe mencionar que para este caso, la métrica del set de entrenamiento es mayor que la del set de prueba."
   ]
  },
  {
   "cell_type": "code",
   "execution_count": 5,
   "metadata": {},
   "outputs": [
    {
     "name": "stdout",
     "output_type": "stream",
     "text": [
      "              precision    recall  f1-score   support\n",
      "\n",
      "           1       0.93      0.91      0.92        46\n",
      "           2       0.79      0.81      0.80        57\n",
      "           3       0.72      0.72      0.72        39\n",
      "\n",
      "   micro avg       0.82      0.82      0.82       142\n",
      "   macro avg       0.81      0.81      0.81       142\n",
      "weighted avg       0.82      0.82      0.82       142\n",
      "\n",
      "              precision    recall  f1-score   support\n",
      "\n",
      "           1       0.90      0.69      0.78        13\n",
      "           2       0.65      0.93      0.76        14\n",
      "           3       0.50      0.33      0.40         9\n",
      "\n",
      "   micro avg       0.69      0.69      0.69        36\n",
      "   macro avg       0.68      0.65      0.65        36\n",
      "weighted avg       0.70      0.69      0.68        36\n",
      "\n"
     ]
    }
   ],
   "source": [
    "from sklearn.metrics import classification_report\n",
    "\n",
    "y_true, y_pred = y_train, knn_model_1.predict(x_train)\n",
    "print(classification_report(y_true, y_pred))\n",
    "\n",
    "y_true, y_pred = y_test, knn_model_1.predict(x_test)\n",
    "print(classification_report(y_true, y_pred))"
   ]
  },
  {
   "cell_type": "markdown",
   "metadata": {},
   "source": [
    "Es posible realizar varias iteraciones de este código anterior [5], para obtener así obtener métricas para diversos valores de k y así evaluar y ajustar el modelo al k más óptimo."
   ]
  },
  {
   "cell_type": "code",
   "execution_count": 6,
   "metadata": {},
   "outputs": [
    {
     "data": {
      "text/plain": [
       "<matplotlib.legend.Legend at 0x2656ae6bba8>"
      ]
     },
     "execution_count": 6,
     "metadata": {},
     "output_type": "execute_result"
    },
    {
     "data": {
      "image/png": "[encoded data removed]",
      "text/plain": [
       "<Figure size 432x288 with 1 Axes>"
      ]
     },
     "metadata": {},
     "output_type": "display_data"
    }
   ],
   "source": [
    "from sklearn.neighbors import KNeighborsClassifier\n",
    "\n",
    "training_accuracy = []\n",
    "test_accuracy = []\n",
    "\n",
    "neighbors_settings = range(1, 40)\n",
    "\n",
    "for n_neighbors in neighbors_settings:\n",
    "    # se construye el modelo de clasificacion\n",
    "    clf = KNeighborsClassifier(n_neighbors=n_neighbors)\n",
    "    clf.fit(x_train, y_train)\n",
    "    # se almacena el \"training set accuracy\"\n",
    "    training_accuracy.append(clf.score(x_train, y_train))\n",
    "    # se almacena la \"generalization accuracy\"\n",
    "    test_accuracy.append(clf.score(x_test, y_test))\n",
    "\n",
    "# Plot results\n",
    "plt.plot(neighbors_settings, training_accuracy, label=\"training accuracy\")\n",
    "plt.plot(neighbors_settings, test_accuracy, label=\"test accuracy\")\n",
    "plt.ylabel(\"Accuracy\")\n",
    "plt.xlabel(\"n_neighbors\")\n",
    "plt.title(\"Model metrics of training and test sets\")\n",
    "plt.legend()"
   ]
  },
  {
   "cell_type": "markdown",
   "metadata": {},
   "source": [
    "Para este conjunto de datos en particular y el algortimo KNN, se observa que la métrica para el set de prueba es óptima para valores de k entre 15 y 40.\n",
    "\n",
    "Es posible además escalar los atributos para obtener un mejor rendimiento en el algoritmo de clasificación."
   ]
  },
  {
   "cell_type": "code",
   "execution_count": 7,
   "metadata": {},
   "outputs": [
    {
     "name": "stdout",
     "output_type": "stream",
     "text": [
      "k-NN score for training set: 0.978873\n",
      "k-NN score for test set:     0.944444\n",
      "              precision    recall  f1-score   support\n",
      "\n",
      "           1       0.93      1.00      0.96        13\n",
      "           2       1.00      0.86      0.92        14\n",
      "           3       0.90      1.00      0.95         9\n",
      "\n",
      "   micro avg       0.94      0.94      0.94        36\n",
      "   macro avg       0.94      0.95      0.94        36\n",
      "weighted avg       0.95      0.94      0.94        36\n",
      "\n"
     ]
    }
   ],
   "source": [
    "from sklearn.preprocessing import scale\n",
    "\n",
    "# Scale input features\n",
    "input_feat_scaled = scale(input_features)\n",
    "# Split features into train and test sets\n",
    "Xs_train, Xs_test, y_train, y_test = train_test_split(input_feat_scaled, output_class, test_size=0.2, random_state=50)\n",
    "# Fit model with new scaled training set\n",
    "knn_model_2 = knn.fit(Xs_train, y_train)\n",
    "\n",
    "print('k-NN score for training set: %f' % knn_model_2.score(Xs_train, y_train))\n",
    "print('k-NN score for test set:     %f' % knn_model_2.score(Xs_test, y_test))\n",
    "\n",
    "y_true, y_pred = y_test, knn_model_2.predict(Xs_test)\n",
    "\n",
    "print(classification_report(y_true, y_pred))"
   ]
  },
  {
   "cell_type": "code",
   "execution_count": 8,
   "metadata": {},
   "outputs": [
    {
     "data": {
      "text/plain": [
       "<matplotlib.legend.Legend at 0x2656af19978>"
      ]
     },
     "execution_count": 8,
     "metadata": {},
     "output_type": "execute_result"
    },
    {
     "data": {
      "image/png": "[encoded data removed]",
      "text/plain": [
       "<Figure size 432x288 with 1 Axes>"
      ]
     },
     "metadata": {},
     "output_type": "display_data"
    }
   ],
   "source": [
    "from sklearn.neighbors import KNeighborsClassifier\n",
    "\n",
    "training_accuracy = []\n",
    "test_accuracy = []\n",
    "\n",
    "neighbors_settings = range(1, 40)\n",
    "\n",
    "for n_neighbors in neighbors_settings:\n",
    "    # Generate kNN model\n",
    "    clf = KNeighborsClassifier(n_neighbors=n_neighbors)\n",
    "    # Fit model\n",
    "    clf.fit(Xs_train, y_train)\n",
    "    # Calculate training score\n",
    "    training_accuracy.append(clf.score(Xs_train, y_train))\n",
    "    # Calculate test score\n",
    "    test_accuracy.append(clf.score(Xs_test, y_test))\n",
    "\n",
    "# Plot results\n",
    "plt.plot(neighbors_settings, training_accuracy, label=\"training accuracy\")\n",
    "plt.plot(neighbors_settings, test_accuracy, label=\"test accuracy\")\n",
    "plt.ylabel(\"Accuracy\")\n",
    "plt.xlabel(\"n_neighbors\")\n",
    "plt.title(\"Model metrics of training and test sets\")\n",
    "plt.legend()"
   ]
  },
  {
   "cell_type": "markdown",
   "metadata": {},
   "source": [
    "De aquí se observa que al escalar los datos, se aumenta la precisión del modelo."
   ]
  },
  {
   "cell_type": "markdown",
   "metadata": {},
   "source": [
    "## 2. Linear Regression\n",
    "\n",
    "El concepto de regresión en general indica que se intenta predecir una variable independiente mediante una serie de variables independientes. En particular, la regresión lineal es un modelo estadístico que examina la relación lineal entre dos o más variables, para lo cual el proceso se llama Regresión Lineal Simple o Regresión Lineal Múltiple [6].\n",
    "\n",
    "El objetivo de la regresión lineal es encontrar una línea recta que se ajuste mejor a los datos de entrada, con lo cual puede ser posible posteriormente predecir nuevos valores, asumiendo que la relación es lineal en ese rango y que no habrán otras variables que cambien las condiciones del modelo.\n",
    "\n",
    "En la siguiente figura [6] se observa el proceso de la regresión lineal, en donde se intenta minimizar la distancia de cada muestra a la línea de mejor ajuste.\n",
    "\n",
    "![](https://cdn-images-1.medium.com/max/800/1*A71zTD6_QqUzLhMKj1Rgiw.png)\n",
    "\n",
    "En Python, la implementación de la regresión lineal es bastante simple y directa. Inicialmente, es necesario contar con un set de datos de entrenamiento y prueba, cosa que fue realizada anteriormente. Seguidamente se genera el modelo mediante `linear_model.LinearRegression()`, se entrena el algoritmo con los datos de entrenamiento mediante `model = lm.fit(x_train, y_train)` y se obtienen las prediciones con el set de datos de prueba con `predictions = lm.predict(x_test)`.  Finalmente, es posible obtener la métrica del modelo y graficar las predicciones con respecto al valor verdadero."
   ]
  },
  {
   "cell_type": "code",
   "execution_count": 9,
   "metadata": {},
   "outputs": [
    {
     "name": "stdout",
     "output_type": "stream",
     "text": [
      "Training Score: 0.900381276442989\n",
      "Test Score: 0.8909868692294324\n"
     ]
    },
    {
     "data": {
      "image/png": "[encoded data removed]",
      "text/plain": [
       "<Figure size 432x288 with 1 Axes>"
      ]
     },
     "metadata": {},
     "output_type": "display_data"
    }
   ],
   "source": [
    "from sklearn import datasets, linear_model\n",
    "\n",
    "# Generate linear model\n",
    "lm = linear_model.LinearRegression()\n",
    "# Fit the model using x_train as training data and y_train as target values\n",
    "model = lm.fit(x_train, y_train)\n",
    "# Predict the output with the test set as input\n",
    "predictions = lm.predict(x_test)\n",
    "\n",
    "print (\"Training Score:\", model.score(x_train, y_train))\n",
    "print (\"Test Score:\", model.score(x_test, y_test))\n",
    "\n",
    "## The line / model\n",
    "plt.scatter(y_test, predictions, label=\"Samples\")\n",
    "plt.xlabel(\"True Values\")\n",
    "plt.ylabel(\"Predictions\")\n",
    "plt.title(\"Predictions against true values of linear model\")\n",
    "plt.legend(loc='upper left')\n",
    "plt.grid(b=1, which='major', axis='both')\n",
    "plt.show()"
   ]
  },
  {
   "cell_type": "markdown",
   "metadata": {},
   "source": [
    "En la gráfica anterior no se observa exactamente una línea de mejor ajuste o una relación lineal en los resultados. La razón se debe a que la variable de salida no es continua, sino discreta, y puede resultar en valores de 1, 2, ó 3, que representan los diferentes productores de vino de la muestra.\n",
    "\n",
    "Sin embargo, el modelo lineal, que en este caso tiene múltiples valores de salida, se ajusta bastante bien ya que se obtuvo un puntaje de 0.89 para el set de prueba."
   ]
  },
  {
   "cell_type": "markdown",
   "metadata": {},
   "source": [
    "## 3. Support Vector Machines\n",
    "\n",
    "El algoritmo de Support Vector Machines (SVM) permite separar datos en dos dimensiones, pero se diferencia de los otros algoritmos en el que escoge el umbral de decisión de tal manera que se maximice la distancia de las muestras al umbral, como se observa en la siguiente figura [9]:\n",
    "\n",
    "![](https://s3.amazonaws.com/stackabuse/media/implementing-svm-kernel-svm-python-scikit-learn-2.jpg)\n",
    "\n",
    "Las muestras que forman parte de los umbrales son llamadas *support vectors*. El algoritmo se encarga de optimizar la línea que separa las muestras del manera que se minimice el error mediante el uso de matemática compleja.\n",
    "\n",
    "La forma más simple de SVM es la lineal, aunque es posible utilizar diferentes *kernels* para datos no linealmente separables. Existen por ejemplo el *kernel* polinomail, gaussiano y sigmoide."
   ]
  },
  {
   "cell_type": "markdown",
   "metadata": {},
   "source": [
    "### Linear Kernel\n",
    "\n",
    "Para utilizar el algoritmo SVM, si sigue la forma que se ha venido explicando para los otros algoritmos; se invoca al modelo, se ajustan los datos de entrenamiento y se predicen luego las salidas con el set de prueba. Finalmente es posible evaluar las métricas del algoritmo u observar la matriz de confusión.\n",
    "\n",
    "Este método posee dos parámetros importantes que pueden ser ajustados [10]. Primeramente `gamma`, que define qué tan tanto influencia un dato en particular. Valores bajos significa 'lejos' y valores bajos significa 'cercano', en referencia al umbral de decisión. Otra interpretación puede ser el inverso del radio de influencia de muestras seleccionadas como *support vectors*.\n",
    "\n",
    "El valor `C` realiza un compromiso entre la correcta clasificación de muestras contra la maximización del margen de decisión. Para valores altos, se aceptará un menor margen si la función de decisión es mejor en clasificar todos los puntos de entrenamiento correctamente. Un valor menor implicará una función de decisión más simple."
   ]
  },
  {
   "cell_type": "code",
   "execution_count": 10,
   "metadata": {},
   "outputs": [
    {
     "name": "stdout",
     "output_type": "stream",
     "text": [
      "[[13  0  0]\n",
      " [ 1 13  0]\n",
      " [ 0  0  9]]\n",
      "              precision    recall  f1-score   support\n",
      "\n",
      "           1       0.93      1.00      0.96        13\n",
      "           2       1.00      0.93      0.96        14\n",
      "           3       1.00      1.00      1.00         9\n",
      "\n",
      "   micro avg       0.97      0.97      0.97        36\n",
      "   macro avg       0.98      0.98      0.98        36\n",
      "weighted avg       0.97      0.97      0.97        36\n",
      "\n",
      "Accuracy: 0.9722222222222222\n"
     ]
    }
   ],
   "source": [
    "from sklearn.svm import SVC\n",
    "from sklearn.metrics import classification_report, confusion_matrix\n",
    "from sklearn import metrics\n",
    "\n",
    "# Generate linear model\n",
    "svclassifier = SVC(kernel='linear', C=100.0, gamma=0.1)\n",
    "# Fit the model using x_train as training data and y_train as target values\n",
    "svclassifier.fit(x_train, y_train)\n",
    "# Predict the output with the test set as input\n",
    "y_pred = svclassifier.predict(x_test)\n",
    "\n",
    "print(confusion_matrix(y_test, y_pred))  \n",
    "print(classification_report(y_test, y_pred))\n",
    "print(\"Accuracy:\",metrics.accuracy_score(y_test, y_pred))"
   ]
  },
  {
   "cell_type": "markdown",
   "metadata": {},
   "source": [
    "### Polynomial Kernel\n",
    "\n",
    "Para el *kernel* polinomial, es necesario indicar `kernel='poly'` y el grado del polinomio mediante `degree=7`."
   ]
  },
  {
   "cell_type": "code",
   "execution_count": 11,
   "metadata": {},
   "outputs": [
    {
     "name": "stdout",
     "output_type": "stream",
     "text": [
      "[[12  1  0]\n",
      " [ 0 14  0]\n",
      " [ 0  1  8]]\n",
      "              precision    recall  f1-score   support\n",
      "\n",
      "           1       1.00      0.92      0.96        13\n",
      "           2       0.88      1.00      0.93        14\n",
      "           3       1.00      0.89      0.94         9\n",
      "\n",
      "   micro avg       0.94      0.94      0.94        36\n",
      "   macro avg       0.96      0.94      0.94        36\n",
      "weighted avg       0.95      0.94      0.94        36\n",
      "\n",
      "Accuracy: 0.9444444444444444\n"
     ]
    }
   ],
   "source": [
    "# Generate polynomial model\n",
    "svclassifier = SVC(kernel='poly', degree=7, gamma='auto')  \n",
    "# Fit the model using x_train as training data and y_train as target values\n",
    "svclassifier.fit(x_train, y_train)\n",
    "# Predict the output with the test set as input\n",
    "y_pred = svclassifier.predict(x_test)\n",
    "\n",
    "print(confusion_matrix(y_test, y_pred))  \n",
    "print(classification_report(y_test, y_pred))  \n",
    "print(\"Accuracy:\",metrics.accuracy_score(y_test, y_pred))"
   ]
  },
  {
   "cell_type": "markdown",
   "metadata": {},
   "source": [
    "### Gaussian Kernel\n",
    "\n",
    "Para el *kernel* gaussiano, es necesario indicar `kernel='rbf'`."
   ]
  },
  {
   "cell_type": "code",
   "execution_count": 12,
   "metadata": {},
   "outputs": [
    {
     "name": "stdout",
     "output_type": "stream",
     "text": [
      "[[ 2 11  0]\n",
      " [ 0 14  0]\n",
      " [ 0  8  1]]\n",
      "              precision    recall  f1-score   support\n",
      "\n",
      "           1       1.00      0.15      0.27        13\n",
      "           2       0.42      1.00      0.60        14\n",
      "           3       1.00      0.11      0.20         9\n",
      "\n",
      "   micro avg       0.47      0.47      0.47        36\n",
      "   macro avg       0.81      0.42      0.35        36\n",
      "weighted avg       0.78      0.47      0.38        36\n",
      "\n",
      "Accuracy: 0.4722222222222222\n"
     ]
    }
   ],
   "source": [
    "# Generate gaussian model\n",
    "svclassifier = SVC(kernel='rbf', gamma='auto')  \n",
    "# Fit the model using x_train as training data and y_train as target values\n",
    "svclassifier.fit(x_train, y_train)\n",
    "# Predict the output with the test set as input\n",
    "y_pred = svclassifier.predict(x_test)\n",
    "\n",
    "print(confusion_matrix(y_test, y_pred))  \n",
    "print(classification_report(y_test, y_pred))  \n",
    "print(\"Accuracy:\",metrics.accuracy_score(y_test, y_pred))"
   ]
  },
  {
   "cell_type": "markdown",
   "metadata": {},
   "source": [
    "### Sigmoid Kernel\n",
    "\n",
    "Para el *kernel* gaussiano, es necesario indicar `kernel='sigmoid'`."
   ]
  },
  {
   "cell_type": "code",
   "execution_count": 13,
   "metadata": {},
   "outputs": [
    {
     "name": "stdout",
     "output_type": "stream",
     "text": [
      "[[ 0 13  0]\n",
      " [ 0 14  0]\n",
      " [ 0  9  0]]\n",
      "              precision    recall  f1-score   support\n",
      "\n",
      "           1       0.00      0.00      0.00        13\n",
      "           2       0.39      1.00      0.56        14\n",
      "           3       0.00      0.00      0.00         9\n",
      "\n",
      "   micro avg       0.39      0.39      0.39        36\n",
      "   macro avg       0.13      0.33      0.19        36\n",
      "weighted avg       0.15      0.39      0.22        36\n",
      "\n",
      "Accuracy: 0.3888888888888889\n"
     ]
    }
   ],
   "source": [
    "# Generate sigmoid model\n",
    "svclassifier = SVC(kernel='sigmoid', gamma='auto')\n",
    "# Fit the model using x_train as training data and y_train as target values\n",
    "svclassifier.fit(x_train, y_train)\n",
    "# Predict the output with the test set as input\n",
    "y_pred = svclassifier.predict(x_test)\n",
    "\n",
    "print(confusion_matrix(y_test, y_pred))  \n",
    "print(classification_report(y_test, y_pred))  \n",
    "print(\"Accuracy:\",metrics.accuracy_score(y_test, y_pred))\n"
   ]
  },
  {
   "cell_type": "markdown",
   "metadata": {},
   "source": [
    "## 4. Decision Trees\n",
    "\n",
    "Un árbol de decisión es un diagrama de flujo en forma de árbol, en donde un nodo interno representa un atributo, la rama representa una regla para una decisión  y cada hoja representa el resultado de la regla, como se observa a continuación [11]:\n",
    "\n",
    "![](https://res.cloudinary.com/dyd911kmh/image/upload/f_auto,q_auto:best/v1545934190/1_r5ikdb.png)\n",
    "\n",
    "La clasificación de datos se realiza mediante los valores de los atributos y haciendo preguntas 'if-else'. La estructura del árbol puede ser tan simple o pequeña, o compleja como se desee, mediante la limitación de crecimiento del mismo. Es más favorable tener árboles pequeños y balanceados, ya que su interpretación es más simple e intuitiva.\n",
    "\n",
    "El uso del algoritmo sigue los mismos pasos de los algoritmos anteriores, en donde se invoca al modelo, se ajustan los datos de entrenamiento y se predicen las salidas del conjunto de prueba.\n",
    "\n",
    "Existen diversas variables que pueden ser ajustadas, como por ejemplo `max_depth` que indica la profundidad máxima del árbol o `min_samples_split` que indica la cantidad mínima de muestras necesarias para partir un nodo interno.\n"
   ]
  },
  {
   "cell_type": "code",
   "execution_count": 14,
   "metadata": {},
   "outputs": [
    {
     "name": "stdout",
     "output_type": "stream",
     "text": [
      "Accuracy on training set: 1.000\n",
      "Accuracy on test set: 0.944\n"
     ]
    }
   ],
   "source": [
    "from sklearn.tree import DecisionTreeClassifier\n",
    "\n",
    "decision_tree = DecisionTreeClassifier(random_state=0)\n",
    "decision_tree.fit(x_train, y_train)\n",
    "\n",
    "print(\"Accuracy on training set: {:.3f}\".format(decision_tree.score(x_train, y_train)))\n",
    "print(\"Accuracy on test set: {:.3f}\".format(decision_tree.score(x_test, y_test)))"
   ]
  },
  {
   "cell_type": "code",
   "execution_count": 15,
   "metadata": {},
   "outputs": [
    {
     "name": "stdout",
     "output_type": "stream",
     "text": [
      "Accuracy on training set: 0.993\n",
      "Accuracy on test set: 0.944\n"
     ]
    }
   ],
   "source": [
    "decision_tree = DecisionTreeClassifier(max_depth=3, random_state=0)\n",
    "decision_tree.fit(x_train, y_train)\n",
    "\n",
    "print(\"Accuracy on training set: {:.3f}\".format(decision_tree.score(x_train, y_train)))\n",
    "print(\"Accuracy on test set: {:.3f}\".format(decision_tree.score(x_test, y_test)))"
   ]
  },
  {
   "cell_type": "code",
   "execution_count": 16,
   "metadata": {},
   "outputs": [
    {
     "name": "stdout",
     "output_type": "stream",
     "text": [
      "Accuracy on training set: 1.000\n",
      "Accuracy on test set: 0.944\n"
     ]
    }
   ],
   "source": [
    "decision_tree = DecisionTreeClassifier(min_samples_split=5, random_state=0)\n",
    "decision_tree.fit(x_train, y_train)\n",
    "\n",
    "print(\"Accuracy on training set: {:.3f}\".format(decision_tree.score(x_train, y_train)))\n",
    "print(\"Accuracy on test set: {:.3f}\".format(decision_tree.score(x_test, y_test)))"
   ]
  },
  {
   "cell_type": "markdown",
   "metadata": {},
   "source": [
    "Mediante el método `decision_tree.feature_importances_` se puede imprimir un coeficiente de importancia de los atributos escogidos para realizar la clasificación. Algunos aparecen en cero, lo que indica que no fueron utilizados para la calificación o bien no aportaban información útil para la clasificación. Deben ser leídos junto con arreglo que guarda los nombres de los atributos en el mismo orden. Para este ejemplo en particular, los atributos importantes son: color intensity, proline, flavanoids y malic acid."
   ]
  },
  {
   "cell_type": "code",
   "execution_count": 17,
   "metadata": {},
   "outputs": [
    {
     "name": "stdout",
     "output_type": "stream",
     "text": [
      "Feature importances:\n",
      "[0.         0.01901223 0.         0.         0.         0.\n",
      " 0.4113604  0.         0.         0.40155113 0.02085404 0.\n",
      " 0.14722219]\n"
     ]
    }
   ],
   "source": [
    "print(\"Feature importances:\\n{}\".format(decision_tree.feature_importances_))"
   ]
  },
  {
   "cell_type": "markdown",
   "metadata": {},
   "source": [
    "Es posible además graficar el árbol generado, en el cual se puede interpretar varios datos. Primeramente, aparece arriba al atributo con el cuál se está realizando la partición de muestras, así como la cantidad de muestras que hay en ese punto, el coeficiente gini y la clasificación de clase que se hace en ese punto."
   ]
  },
  {
   "cell_type": "code",
   "execution_count": 18,
   "metadata": {},
   "outputs": [
    {
     "data": {
      "image/svg+xml": [
       "<?xml version=\"1.0\" encoding=\"UTF-8\" standalone=\"no\"?>\r\n",
       "<!DOCTYPE svg PUBLIC \"-//W3C//DTD SVG 1.1//EN\"\r\n",
       " \"http://www.w3.org/Graphics/SVG/1.1/DTD/svg11.dtd\">\r\n",
       "<!-- Generated by graphviz version 2.38.0 (20140413.2041)\r\n",
       " -->\r\n",
       "<!-- Title: Tree Pages: 1 -->\r\n",
       "<svg width=\"644pt\" height=\"552pt\"\r\n",
       " viewBox=\"0.00 0.00 644.00 552.00\" xmlns=\"http://www.w3.org/2000/svg\" xmlns:xlink=\"http://www.w3.org/1999/xlink\">\r\n",
       "<g id=\"graph0\" class=\"graph\" transform=\"scale(1 1) rotate(0) translate(4 548)\">\r\n",
       "<title>Tree</title>\r\n",
       "<polygon fill=\"white\" stroke=\"none\" points=\"-4,4 -4,-548 640,-548 640,4 -4,4\"/>\r\n",
       "<!-- 0 -->\r\n",
       "<g id=\"node1\" class=\"node\"><title>0</title>\r\n",
       "<polygon fill=\"none\" stroke=\"black\" points=\"319.5,-544 176.5,-544 176.5,-461 319.5,-461 319.5,-544\"/>\r\n",
       "<text text-anchor=\"middle\" x=\"248\" y=\"-528.8\" font-family=\"Times New Roman,serif\" font-size=\"14.00\">color intensity &lt;= 3.82</text>\r\n",
       "<text text-anchor=\"middle\" x=\"248\" y=\"-513.8\" font-family=\"Times New Roman,serif\" font-size=\"14.00\">gini = 0.659</text>\r\n",
       "<text text-anchor=\"middle\" x=\"248\" y=\"-498.8\" font-family=\"Times New Roman,serif\" font-size=\"14.00\">samples = 142</text>\r\n",
       "<text text-anchor=\"middle\" x=\"248\" y=\"-483.8\" font-family=\"Times New Roman,serif\" font-size=\"14.00\">value = [46, 57, 39]</text>\r\n",
       "<text text-anchor=\"middle\" x=\"248\" y=\"-468.8\" font-family=\"Times New Roman,serif\" font-size=\"14.00\">class = wine 2</text>\r\n",
       "</g>\r\n",
       "<!-- 1 -->\r\n",
       "<g id=\"node2\" class=\"node\"><title>1</title>\r\n",
       "<polygon fill=\"none\" stroke=\"black\" points=\"237,-425 125,-425 125,-342 237,-342 237,-425\"/>\r\n",
       "<text text-anchor=\"middle\" x=\"181\" y=\"-409.8\" font-family=\"Times New Roman,serif\" font-size=\"14.00\">proline &lt;= 986.0</text>\r\n",
       "<text text-anchor=\"middle\" x=\"181\" y=\"-394.8\" font-family=\"Times New Roman,serif\" font-size=\"14.00\">gini = 0.04</text>\r\n",
       "<text text-anchor=\"middle\" x=\"181\" y=\"-379.8\" font-family=\"Times New Roman,serif\" font-size=\"14.00\">samples = 49</text>\r\n",
       "<text text-anchor=\"middle\" x=\"181\" y=\"-364.8\" font-family=\"Times New Roman,serif\" font-size=\"14.00\">value = [1, 48, 0]</text>\r\n",
       "<text text-anchor=\"middle\" x=\"181\" y=\"-349.8\" font-family=\"Times New Roman,serif\" font-size=\"14.00\">class = wine 2</text>\r\n",
       "</g>\r\n",
       "<!-- 0&#45;&gt;1 -->\r\n",
       "<g id=\"edge1\" class=\"edge\"><title>0&#45;&gt;1</title>\r\n",
       "<path fill=\"none\" stroke=\"black\" d=\"M224.755,-460.907C219.766,-452.195 214.441,-442.897 209.285,-433.893\"/>\r\n",
       "<polygon fill=\"black\" stroke=\"black\" points=\"212.211,-431.959 204.204,-425.021 206.136,-435.438 212.211,-431.959\"/>\r\n",
       "<text text-anchor=\"middle\" x=\"197.648\" y=\"-445.446\" font-family=\"Times New Roman,serif\" font-size=\"14.00\">True</text>\r\n",
       "</g>\r\n",
       "<!-- 4 -->\r\n",
       "<g id=\"node5\" class=\"node\"><title>4</title>\r\n",
       "<polygon fill=\"none\" stroke=\"black\" points=\"377,-425 255,-425 255,-342 377,-342 377,-425\"/>\r\n",
       "<text text-anchor=\"middle\" x=\"316\" y=\"-409.8\" font-family=\"Times New Roman,serif\" font-size=\"14.00\">flavanoids &lt;= 1.58</text>\r\n",
       "<text text-anchor=\"middle\" x=\"316\" y=\"-394.8\" font-family=\"Times New Roman,serif\" font-size=\"14.00\">gini = 0.581</text>\r\n",
       "<text text-anchor=\"middle\" x=\"316\" y=\"-379.8\" font-family=\"Times New Roman,serif\" font-size=\"14.00\">samples = 93</text>\r\n",
       "<text text-anchor=\"middle\" x=\"316\" y=\"-364.8\" font-family=\"Times New Roman,serif\" font-size=\"14.00\">value = [45, 9, 39]</text>\r\n",
       "<text text-anchor=\"middle\" x=\"316\" y=\"-349.8\" font-family=\"Times New Roman,serif\" font-size=\"14.00\">class = wine 1</text>\r\n",
       "</g>\r\n",
       "<!-- 0&#45;&gt;4 -->\r\n",
       "<g id=\"edge4\" class=\"edge\"><title>0&#45;&gt;4</title>\r\n",
       "<path fill=\"none\" stroke=\"black\" d=\"M271.592,-460.907C276.656,-452.195 282.06,-442.897 287.293,-433.893\"/>\r\n",
       "<polygon fill=\"black\" stroke=\"black\" points=\"290.451,-435.425 292.449,-425.021 284.398,-431.908 290.451,-435.425\"/>\r\n",
       "<text text-anchor=\"middle\" x=\"298.85\" y=\"-445.487\" font-family=\"Times New Roman,serif\" font-size=\"14.00\">False</text>\r\n",
       "</g>\r\n",
       "<!-- 2 -->\r\n",
       "<g id=\"node3\" class=\"node\"><title>2</title>\r\n",
       "<polygon fill=\"none\" stroke=\"black\" points=\"112,-298.5 7.10543e-015,-298.5 7.10543e-015,-230.5 112,-230.5 112,-298.5\"/>\r\n",
       "<text text-anchor=\"middle\" x=\"56\" y=\"-283.3\" font-family=\"Times New Roman,serif\" font-size=\"14.00\">gini = 0.0</text>\r\n",
       "<text text-anchor=\"middle\" x=\"56\" y=\"-268.3\" font-family=\"Times New Roman,serif\" font-size=\"14.00\">samples = 48</text>\r\n",
       "<text text-anchor=\"middle\" x=\"56\" y=\"-253.3\" font-family=\"Times New Roman,serif\" font-size=\"14.00\">value = [0, 48, 0]</text>\r\n",
       "<text text-anchor=\"middle\" x=\"56\" y=\"-238.3\" font-family=\"Times New Roman,serif\" font-size=\"14.00\">class = wine 2</text>\r\n",
       "</g>\r\n",
       "<!-- 1&#45;&gt;2 -->\r\n",
       "<g id=\"edge2\" class=\"edge\"><title>1&#45;&gt;2</title>\r\n",
       "<path fill=\"none\" stroke=\"black\" d=\"M137.632,-341.907C125.136,-330.211 111.51,-317.457 99.0339,-305.78\"/>\r\n",
       "<polygon fill=\"black\" stroke=\"black\" points=\"101.127,-302.945 91.4348,-298.667 96.3439,-308.056 101.127,-302.945\"/>\r\n",
       "</g>\r\n",
       "<!-- 3 -->\r\n",
       "<g id=\"node4\" class=\"node\"><title>3</title>\r\n",
       "<polygon fill=\"none\" stroke=\"black\" points=\"235.5,-298.5 130.5,-298.5 130.5,-230.5 235.5,-230.5 235.5,-298.5\"/>\r\n",
       "<text text-anchor=\"middle\" x=\"183\" y=\"-283.3\" font-family=\"Times New Roman,serif\" font-size=\"14.00\">gini = 0.0</text>\r\n",
       "<text text-anchor=\"middle\" x=\"183\" y=\"-268.3\" font-family=\"Times New Roman,serif\" font-size=\"14.00\">samples = 1</text>\r\n",
       "<text text-anchor=\"middle\" x=\"183\" y=\"-253.3\" font-family=\"Times New Roman,serif\" font-size=\"14.00\">value = [1, 0, 0]</text>\r\n",
       "<text text-anchor=\"middle\" x=\"183\" y=\"-238.3\" font-family=\"Times New Roman,serif\" font-size=\"14.00\">class = wine 1</text>\r\n",
       "</g>\r\n",
       "<!-- 1&#45;&gt;3 -->\r\n",
       "<g id=\"edge3\" class=\"edge\"><title>1&#45;&gt;3</title>\r\n",
       "<path fill=\"none\" stroke=\"black\" d=\"M181.694,-341.907C181.877,-331.204 182.075,-319.615 182.26,-308.776\"/>\r\n",
       "<polygon fill=\"black\" stroke=\"black\" points=\"185.762,-308.725 182.433,-298.667 178.763,-308.606 185.762,-308.725\"/>\r\n",
       "</g>\r\n",
       "<!-- 5 -->\r\n",
       "<g id=\"node6\" class=\"node\"><title>5</title>\r\n",
       "<polygon fill=\"none\" stroke=\"black\" points=\"370,-306 258,-306 258,-223 370,-223 370,-306\"/>\r\n",
       "<text text-anchor=\"middle\" x=\"314\" y=\"-290.8\" font-family=\"Times New Roman,serif\" font-size=\"14.00\">hue &lt;= 0.97</text>\r\n",
       "<text text-anchor=\"middle\" x=\"314\" y=\"-275.8\" font-family=\"Times New Roman,serif\" font-size=\"14.00\">gini = 0.049</text>\r\n",
       "<text text-anchor=\"middle\" x=\"314\" y=\"-260.8\" font-family=\"Times New Roman,serif\" font-size=\"14.00\">samples = 40</text>\r\n",
       "<text text-anchor=\"middle\" x=\"314\" y=\"-245.8\" font-family=\"Times New Roman,serif\" font-size=\"14.00\">value = [0, 1, 39]</text>\r\n",
       "<text text-anchor=\"middle\" x=\"314\" y=\"-230.8\" font-family=\"Times New Roman,serif\" font-size=\"14.00\">class = wine 3</text>\r\n",
       "</g>\r\n",
       "<!-- 4&#45;&gt;5 -->\r\n",
       "<g id=\"edge5\" class=\"edge\"><title>4&#45;&gt;5</title>\r\n",
       "<path fill=\"none\" stroke=\"black\" d=\"M315.306,-341.907C315.163,-333.558 315.011,-324.671 314.864,-316.02\"/>\r\n",
       "<polygon fill=\"black\" stroke=\"black\" points=\"318.363,-315.959 314.693,-306.021 311.364,-316.079 318.363,-315.959\"/>\r\n",
       "</g>\r\n",
       "<!-- 8 -->\r\n",
       "<g id=\"node9\" class=\"node\"><title>8</title>\r\n",
       "<polygon fill=\"none\" stroke=\"black\" points=\"501,-306 389,-306 389,-223 501,-223 501,-306\"/>\r\n",
       "<text text-anchor=\"middle\" x=\"445\" y=\"-290.8\" font-family=\"Times New Roman,serif\" font-size=\"14.00\">proline &lt;= 724.5</text>\r\n",
       "<text text-anchor=\"middle\" x=\"445\" y=\"-275.8\" font-family=\"Times New Roman,serif\" font-size=\"14.00\">gini = 0.256</text>\r\n",
       "<text text-anchor=\"middle\" x=\"445\" y=\"-260.8\" font-family=\"Times New Roman,serif\" font-size=\"14.00\">samples = 53</text>\r\n",
       "<text text-anchor=\"middle\" x=\"445\" y=\"-245.8\" font-family=\"Times New Roman,serif\" font-size=\"14.00\">value = [45, 8, 0]</text>\r\n",
       "<text text-anchor=\"middle\" x=\"445\" y=\"-230.8\" font-family=\"Times New Roman,serif\" font-size=\"14.00\">class = wine 1</text>\r\n",
       "</g>\r\n",
       "<!-- 4&#45;&gt;8 -->\r\n",
       "<g id=\"edge8\" class=\"edge\"><title>4&#45;&gt;8</title>\r\n",
       "<path fill=\"none\" stroke=\"black\" d=\"M360.756,-341.907C371.062,-332.56 382.112,-322.538 392.707,-312.929\"/>\r\n",
       "<polygon fill=\"black\" stroke=\"black\" points=\"395.267,-315.332 400.323,-306.021 390.565,-310.146 395.267,-315.332\"/>\r\n",
       "</g>\r\n",
       "<!-- 6 -->\r\n",
       "<g id=\"node7\" class=\"node\"><title>6</title>\r\n",
       "<polygon fill=\"none\" stroke=\"black\" points=\"243,-179.5 131,-179.5 131,-111.5 243,-111.5 243,-179.5\"/>\r\n",
       "<text text-anchor=\"middle\" x=\"187\" y=\"-164.3\" font-family=\"Times New Roman,serif\" font-size=\"14.00\">gini = 0.0</text>\r\n",
       "<text text-anchor=\"middle\" x=\"187\" y=\"-149.3\" font-family=\"Times New Roman,serif\" font-size=\"14.00\">samples = 39</text>\r\n",
       "<text text-anchor=\"middle\" x=\"187\" y=\"-134.3\" font-family=\"Times New Roman,serif\" font-size=\"14.00\">value = [0, 0, 39]</text>\r\n",
       "<text text-anchor=\"middle\" x=\"187\" y=\"-119.3\" font-family=\"Times New Roman,serif\" font-size=\"14.00\">class = wine 3</text>\r\n",
       "</g>\r\n",
       "<!-- 5&#45;&gt;6 -->\r\n",
       "<g id=\"edge6\" class=\"edge\"><title>5&#45;&gt;6</title>\r\n",
       "<path fill=\"none\" stroke=\"black\" d=\"M269.938,-222.907C257.122,-211.101 243.137,-198.217 230.364,-186.45\"/>\r\n",
       "<polygon fill=\"black\" stroke=\"black\" points=\"232.728,-183.868 223.002,-179.667 227.985,-189.017 232.728,-183.868\"/>\r\n",
       "</g>\r\n",
       "<!-- 7 -->\r\n",
       "<g id=\"node8\" class=\"node\"><title>7</title>\r\n",
       "<polygon fill=\"none\" stroke=\"black\" points=\"366.5,-179.5 261.5,-179.5 261.5,-111.5 366.5,-111.5 366.5,-179.5\"/>\r\n",
       "<text text-anchor=\"middle\" x=\"314\" y=\"-164.3\" font-family=\"Times New Roman,serif\" font-size=\"14.00\">gini = 0.0</text>\r\n",
       "<text text-anchor=\"middle\" x=\"314\" y=\"-149.3\" font-family=\"Times New Roman,serif\" font-size=\"14.00\">samples = 1</text>\r\n",
       "<text text-anchor=\"middle\" x=\"314\" y=\"-134.3\" font-family=\"Times New Roman,serif\" font-size=\"14.00\">value = [0, 1, 0]</text>\r\n",
       "<text text-anchor=\"middle\" x=\"314\" y=\"-119.3\" font-family=\"Times New Roman,serif\" font-size=\"14.00\">class = wine 2</text>\r\n",
       "</g>\r\n",
       "<!-- 5&#45;&gt;7 -->\r\n",
       "<g id=\"edge7\" class=\"edge\"><title>5&#45;&gt;7</title>\r\n",
       "<path fill=\"none\" stroke=\"black\" d=\"M314,-222.907C314,-212.204 314,-200.615 314,-189.776\"/>\r\n",
       "<polygon fill=\"black\" stroke=\"black\" points=\"317.5,-189.667 314,-179.667 310.5,-189.667 317.5,-189.667\"/>\r\n",
       "</g>\r\n",
       "<!-- 9 -->\r\n",
       "<g id=\"node10\" class=\"node\"><title>9</title>\r\n",
       "<polygon fill=\"none\" stroke=\"black\" points=\"505.5,-187 384.5,-187 384.5,-104 505.5,-104 505.5,-187\"/>\r\n",
       "<text text-anchor=\"middle\" x=\"445\" y=\"-171.8\" font-family=\"Times New Roman,serif\" font-size=\"14.00\">malic acid &lt;= 3.92</text>\r\n",
       "<text text-anchor=\"middle\" x=\"445\" y=\"-156.8\" font-family=\"Times New Roman,serif\" font-size=\"14.00\">gini = 0.198</text>\r\n",
       "<text text-anchor=\"middle\" x=\"445\" y=\"-141.8\" font-family=\"Times New Roman,serif\" font-size=\"14.00\">samples = 9</text>\r\n",
       "<text text-anchor=\"middle\" x=\"445\" y=\"-126.8\" font-family=\"Times New Roman,serif\" font-size=\"14.00\">value = [1, 8, 0]</text>\r\n",
       "<text text-anchor=\"middle\" x=\"445\" y=\"-111.8\" font-family=\"Times New Roman,serif\" font-size=\"14.00\">class = wine 2</text>\r\n",
       "</g>\r\n",
       "<!-- 8&#45;&gt;9 -->\r\n",
       "<g id=\"edge9\" class=\"edge\"><title>8&#45;&gt;9</title>\r\n",
       "<path fill=\"none\" stroke=\"black\" d=\"M445,-222.907C445,-214.649 445,-205.864 445,-197.302\"/>\r\n",
       "<polygon fill=\"black\" stroke=\"black\" points=\"448.5,-197.021 445,-187.021 441.5,-197.021 448.5,-197.021\"/>\r\n",
       "</g>\r\n",
       "<!-- 12 -->\r\n",
       "<g id=\"node13\" class=\"node\"><title>12</title>\r\n",
       "<polygon fill=\"none\" stroke=\"black\" points=\"636,-179.5 524,-179.5 524,-111.5 636,-111.5 636,-179.5\"/>\r\n",
       "<text text-anchor=\"middle\" x=\"580\" y=\"-164.3\" font-family=\"Times New Roman,serif\" font-size=\"14.00\">gini = 0.0</text>\r\n",
       "<text text-anchor=\"middle\" x=\"580\" y=\"-149.3\" font-family=\"Times New Roman,serif\" font-size=\"14.00\">samples = 44</text>\r\n",
       "<text text-anchor=\"middle\" x=\"580\" y=\"-134.3\" font-family=\"Times New Roman,serif\" font-size=\"14.00\">value = [44, 0, 0]</text>\r\n",
       "<text text-anchor=\"middle\" x=\"580\" y=\"-119.3\" font-family=\"Times New Roman,serif\" font-size=\"14.00\">class = wine 1</text>\r\n",
       "</g>\r\n",
       "<!-- 8&#45;&gt;12 -->\r\n",
       "<g id=\"edge12\" class=\"edge\"><title>8&#45;&gt;12</title>\r\n",
       "<path fill=\"none\" stroke=\"black\" d=\"M491.838,-222.907C505.461,-211.101 520.327,-198.217 533.904,-186.45\"/>\r\n",
       "<polygon fill=\"black\" stroke=\"black\" points=\"536.466,-188.861 541.73,-179.667 531.881,-183.571 536.466,-188.861\"/>\r\n",
       "</g>\r\n",
       "<!-- 10 -->\r\n",
       "<g id=\"node11\" class=\"node\"><title>10</title>\r\n",
       "<polygon fill=\"none\" stroke=\"black\" points=\"435.5,-68 330.5,-68 330.5,-0 435.5,-0 435.5,-68\"/>\r\n",
       "<text text-anchor=\"middle\" x=\"383\" y=\"-52.8\" font-family=\"Times New Roman,serif\" font-size=\"14.00\">gini = 0.0</text>\r\n",
       "<text text-anchor=\"middle\" x=\"383\" y=\"-37.8\" font-family=\"Times New Roman,serif\" font-size=\"14.00\">samples = 8</text>\r\n",
       "<text text-anchor=\"middle\" x=\"383\" y=\"-22.8\" font-family=\"Times New Roman,serif\" font-size=\"14.00\">value = [0, 8, 0]</text>\r\n",
       "<text text-anchor=\"middle\" x=\"383\" y=\"-7.8\" font-family=\"Times New Roman,serif\" font-size=\"14.00\">class = wine 2</text>\r\n",
       "</g>\r\n",
       "<!-- 9&#45;&gt;10 -->\r\n",
       "<g id=\"edge10\" class=\"edge\"><title>9&#45;&gt;10</title>\r\n",
       "<path fill=\"none\" stroke=\"black\" d=\"M421.913,-103.726C417.007,-95.0615 411.818,-85.8962 406.883,-77.1802\"/>\r\n",
       "<polygon fill=\"black\" stroke=\"black\" points=\"409.827,-75.277 401.855,-68.2996 403.736,-78.726 409.827,-75.277\"/>\r\n",
       "</g>\r\n",
       "<!-- 11 -->\r\n",
       "<g id=\"node12\" class=\"node\"><title>11</title>\r\n",
       "<polygon fill=\"none\" stroke=\"black\" points=\"558.5,-68 453.5,-68 453.5,-0 558.5,-0 558.5,-68\"/>\r\n",
       "<text text-anchor=\"middle\" x=\"506\" y=\"-52.8\" font-family=\"Times New Roman,serif\" font-size=\"14.00\">gini = 0.0</text>\r\n",
       "<text text-anchor=\"middle\" x=\"506\" y=\"-37.8\" font-family=\"Times New Roman,serif\" font-size=\"14.00\">samples = 1</text>\r\n",
       "<text text-anchor=\"middle\" x=\"506\" y=\"-22.8\" font-family=\"Times New Roman,serif\" font-size=\"14.00\">value = [1, 0, 0]</text>\r\n",
       "<text text-anchor=\"middle\" x=\"506\" y=\"-7.8\" font-family=\"Times New Roman,serif\" font-size=\"14.00\">class = wine 1</text>\r\n",
       "</g>\r\n",
       "<!-- 9&#45;&gt;11 -->\r\n",
       "<g id=\"edge11\" class=\"edge\"><title>9&#45;&gt;11</title>\r\n",
       "<path fill=\"none\" stroke=\"black\" d=\"M467.714,-103.726C472.541,-95.0615 477.647,-85.8962 482.502,-77.1802\"/>\r\n",
       "<polygon fill=\"black\" stroke=\"black\" points=\"485.64,-78.7389 487.45,-68.2996 479.525,-75.3322 485.64,-78.7389\"/>\r\n",
       "</g>\r\n",
       "</g>\r\n",
       "</svg>\r\n"
      ],
      "text/plain": [
       "<graphviz.files.Source at 0x26569167e48>"
      ]
     },
     "execution_count": 18,
     "metadata": {},
     "output_type": "execute_result"
    }
   ],
   "source": [
    "import graphviz\n",
    "from sklearn import tree\n",
    "\n",
    "dot_data = tree.export_graphviz(decision_tree, out_file=None)\n",
    "graph = graphviz.Source(dot_data) \n",
    "#graph.render(\"decision_tree\") \n",
    "\n",
    "dot_data = tree.export_graphviz(decision_tree, \\\n",
    "                                out_file=None,\n",
    "                               feature_names = features,\\\n",
    "                               class_names = [\"wine 1\", \"wine 2\", \"wine 3\"],\\\n",
    "                               label = 'all') \n",
    "graph = graphviz.Source(dot_data)  \n",
    "graph"
   ]
  },
  {
   "cell_type": "markdown",
   "metadata": {},
   "source": [
    "## 5. Linear Discriminant Analysis\n",
    "\n",
    "El algoritmo de Análisis Discriminante Lineal (LDA) encuentra la combinación lineal de atributos que clasifican dos o más clases de un objeto. Esta combinación resultante puede ser utilizada como un clasificador lineal o para reducir la dimensionalidad previo a una clasificación [12].\n",
    "\n",
    "Es posible variar la cantidad de componentes con `n_components` y utilizar diferentes enfoques de solucionador con `solver`, de los cuales se puede escoger Singular Value Decomposition (svd), Least Squares solution (lsqr) o Eigenvalue decomposition (eigen)."
   ]
  },
  {
   "cell_type": "code",
   "execution_count": 19,
   "metadata": {},
   "outputs": [
    {
     "name": "stdout",
     "output_type": "stream",
     "text": [
      "Test Accuracy: 1.0\n"
     ]
    }
   ],
   "source": [
    "from sklearn.discriminant_analysis import LinearDiscriminantAnalysis as LDA\n",
    "\n",
    "# Generate SVD model\n",
    "lda = LDA(n_components=2, solver='svd')  \n",
    "# Fit test data\n",
    "model = lda.fit(x_train, y_train)\n",
    "# Predict the response\n",
    "y_pred = model.predict(x_test)\n",
    "\n",
    "# Se evalua la precisión\n",
    "print(\"Test Accuracy:\", model.score(x_test, y_test))"
   ]
  },
  {
   "cell_type": "code",
   "execution_count": 20,
   "metadata": {},
   "outputs": [
    {
     "name": "stdout",
     "output_type": "stream",
     "text": [
      "Test Accuracy: 1.0\n"
     ]
    }
   ],
   "source": [
    "from sklearn.discriminant_analysis import LinearDiscriminantAnalysis as LDA\n",
    "\n",
    "# Generate LSQR model\n",
    "lda = LDA(n_components=2, solver='lsqr')\n",
    "# Fit test data\n",
    "model = lda.fit(x_train, y_train)\n",
    "# Predict the response\n",
    "y_pred = model.predict(x_test)\n",
    "\n",
    "# Se evalua la precisión\n",
    "print(\"Test Accuracy:\", model.score(x_test, y_test))"
   ]
  },
  {
   "cell_type": "code",
   "execution_count": 21,
   "metadata": {},
   "outputs": [
    {
     "name": "stdout",
     "output_type": "stream",
     "text": [
      "Test Accuracy: 0.9722222222222222\n"
     ]
    }
   ],
   "source": [
    "from sklearn.discriminant_analysis import LinearDiscriminantAnalysis as LDA\n",
    "\n",
    "# Generate Eigenvalues model\n",
    "lda = LDA(n_components=2, solver='eigen')  \n",
    "# Fit test data\n",
    "model = lda.fit(x_train, y_train)\n",
    "\n",
    "# predict the response\n",
    "y_pred = model.predict(x_test)\n",
    "\n",
    "# Se evalua la precisión\n",
    "print(\"Test Accuracy:\", model.score(x_test, y_test))"
   ]
  },
  {
   "cell_type": "markdown",
   "metadata": {},
   "source": [
    "## Métodos de ensamble\n",
    "\n",
    "En general, existen diversos enfoques para los algoritmos de ensamble, que se explican a continuación;\n",
    "\n",
    "### 1. Bagging (agregación de bootstrap)\n",
    "Combina múltiples modelos para reducir la varianza de los estimados. Aquí se generan nuevos conjuntos de entrenamiento, que son promediados para regresión y para clasificación se realiza una votación.\n",
    "\n",
    "### 2. Boosting\n",
    "Este método reduce el sesgo y varianza, siguiendo el objetivo de convertir un clasificador débil en uno robusto, mediante el uso de diferentes pesos en las predicciones de cada clasificador.\n",
    "\n",
    "### 2. Stacking\n",
    "Este método genera un nuevo conjunto de datos a partir de diversos modelos de clasificación, que sirve de entrada para un método de clasificación final.\n",
    "\n",
    "## 6. Adaboost\n",
    "\n",
    "El algoritmo Adaboost es parte de la categoría de algoritmos de ensamble, que consiste en la combinación de diversos clasificadores con bajo desempeño para poder crear finalmente un clasificador mejorado [8], como se observa en la siguiente figura:\n",
    "\n",
    "![bla](https://res.cloudinary.com/dyd911kmh/image/upload/f_auto,q_auto:best/v1542651255/image_1_joyt3x.png)\n",
    "\n",
    "El funcionamiento del algoritmo se resume en la siguiente figura [8]:\n",
    "\n",
    "![](https://res.cloudinary.com/dyd911kmh/image/upload/f_auto,q_auto:best/v1542651255/image_3_nwa5zf.png)\n",
    "\n",
    "Se selecciona inicialmente un set de datos de entrenamiento y se entrena el primer modelo. Se asigna mayor peso a las clasificaciones erróneas para que en la siguiente iteración se logre mejorar el algoritmo de clasificación. El proceso itera hasta que los datos se ajusten perfectamente o hasta que se alcance el número de máximo de estimadores especificado inicialmente.\n",
    "\n",
    "Para utilizar el algoritmo Adaboost, se invoca el método `AdaBoostClassifier`, al cual se le pueden pasar diversos parámetros, entre ellos `n_estimators` que indica el número máximo de iteraciones. Seguidamente se invoca el método `fit(x_train, y_train)` para ajustar los datos del model y `model.predict(x_test)` realiza las predicciones."
   ]
  },
  {
   "cell_type": "code",
   "execution_count": 22,
   "metadata": {},
   "outputs": [
    {
     "name": "stdout",
     "output_type": "stream",
     "text": [
      "Accuracy: 0.8611111111111112\n"
     ]
    }
   ],
   "source": [
    "# Load libraries\n",
    "from sklearn.ensemble import AdaBoostClassifier\n",
    "\n",
    "#Import scikit-learn metrics module for accuracy calculation\n",
    "from sklearn import metrics\n",
    "\n",
    "# Create adaboost classifer object\n",
    "adaboost = AdaBoostClassifier(n_estimators = 10, learning_rate = 1)\n",
    "\n",
    "# Train Adaboost Classifer\n",
    "model = adaboost.fit(x_train, y_train)\n",
    "\n",
    "#Predict the response for test dataset\n",
    "y_pred = model.predict(x_test)\n",
    "\n",
    "# Model Accuracy, how often is the classifier correct?\n",
    "print(\"Accuracy:\", metrics.accuracy_score(y_test, y_pred))"
   ]
  },
  {
   "cell_type": "markdown",
   "metadata": {},
   "source": [
    "Es posible iterar sobre varios números de estimadores para poder observar la convergencia del algoritmo."
   ]
  },
  {
   "cell_type": "code",
   "execution_count": 23,
   "metadata": {},
   "outputs": [
    {
     "data": {
      "text/plain": [
       "<matplotlib.legend.Legend at 0x2656872b9e8>"
      ]
     },
     "execution_count": 23,
     "metadata": {},
     "output_type": "execute_result"
    },
    {
     "data": {
      "image/png": "[encoded data removed]",
      "text/plain": [
       "<Figure size 432x288 with 1 Axes>"
      ]
     },
     "metadata": {},
     "output_type": "display_data"
    }
   ],
   "source": [
    "training_accuracy = []\n",
    "test_accuracy = []\n",
    "\n",
    "estimators = range(1, 30)\n",
    "\n",
    "for estimator_idx in estimators:\n",
    "    # Create adaboost classifer object\n",
    "    adaboost = AdaBoostClassifier(n_estimators = estimator_idx, learning_rate = 1)\n",
    "    # Train Adaboost Classifer\n",
    "    model = adaboost.fit(x_train, y_train)\n",
    "    #Predict the response for test dataset\n",
    "    y_pred = model.predict(x_test)\n",
    "    \n",
    "    # se almacena la \"generalization accuracy\"\n",
    "    test_accuracy.append(metrics.accuracy_score(y_test, y_pred))\n",
    "\n",
    "# Plot results\n",
    "plt.plot(estimators, test_accuracy, label=\"Test accuracy\")\n",
    "plt.ylabel(\"Accuracy\")\n",
    "plt.xlabel(\"n_estimators\")\n",
    "plt.title(\"Model metrics of training and test sets\")\n",
    "plt.legend()"
   ]
  },
  {
   "cell_type": "markdown",
   "metadata": {},
   "source": [
    "En este caso se observa que después de 15 estimadores el puntaje converge a 0.88 y no mejora después de ese punto.\n",
    "\n",
    "Es posible además utilizar un estimador base diferente al estimador por defecto, que es DecisionTreeClassifier. Para este caso se utilizará Support Vector Machines y se iterará sobre 30 estimadores para determinar la convergencia del algoritmo."
   ]
  },
  {
   "cell_type": "code",
   "execution_count": 25,
   "metadata": {},
   "outputs": [
    {
     "data": {
      "text/plain": [
       "<matplotlib.legend.Legend at 0x2656913b208>"
      ]
     },
     "execution_count": 25,
     "metadata": {},
     "output_type": "execute_result"
    },
    {
     "data": {
      "image/png": "[encoded data removed]",
      "text/plain": [
       "<Figure size 432x288 with 1 Axes>"
      ]
     },
     "metadata": {},
     "output_type": "display_data"
    }
   ],
   "source": [
    "# Load libraries\n",
    "from sklearn.ensemble import AdaBoostClassifier\n",
    "# Import Support Vector Classifier\n",
    "from sklearn.svm import SVC\n",
    "#Import scikit-learn metrics module for accuracy calculation\n",
    "from sklearn import metrics\n",
    "\n",
    "svc = SVC(probability = True, kernel = 'linear', C=100.0, gamma=0.1)\n",
    "\n",
    "training_accuracy = []\n",
    "test_accuracy = []\n",
    "\n",
    "estimators = range(1, 30)\n",
    "\n",
    "for estimator_idx in estimators:\n",
    "    # Create adaboost classifer object\n",
    "    adaboost = AdaBoostClassifier(n_estimators = estimator_idx, base_estimator = svc, learning_rate = 1)\n",
    "    # Train Adaboost Classifer\n",
    "    model = adaboost.fit(x_train, y_train)\n",
    "    #Predict the response for test dataset\n",
    "    y_pred = model.predict(x_test)\n",
    "    \n",
    "    # se almacena la \"generalization accuracy\"\n",
    "    test_accuracy.append(metrics.accuracy_score(y_test, y_pred))\n",
    "\n",
    "# Plot results\n",
    "plt.plot(estimators, test_accuracy, label=\"Test accuracy\")\n",
    "plt.ylabel(\"Accuracy\")\n",
    "plt.xlabel(\"n_estimators\")\n",
    "plt.title(\"Model metrics of training and test sets\")\n",
    "plt.legend()"
   ]
  },
  {
   "cell_type": "markdown",
   "metadata": {},
   "source": [
    "Se observa que la exactitud del modelo utilizando SVM mejoró con respecto a Decision Trees, donde se alcanza un puntaje entre 0.945 y 0.972."
   ]
  },
  {
   "cell_type": "markdown",
   "metadata": {},
   "source": [
    "# Resultados y Conclusiones\n",
    "\n",
    "A continuación se brinda un resumen de los métodos probados junto con los puntajes obtenidos.\n",
    "\n",
    "### kNN\n",
    "Mejor puntaje: 0.777 \n",
    "\n",
    "### kNN con datos escalados\n",
    "Mejor puntaje: 0.972\n",
    "\n",
    "### Regresión lineal\n",
    "Mejor puntaje: 0.890 \n",
    "\n",
    "### SVM kernel lineal\n",
    "Mejor puntaje: 0.972\n",
    "\n",
    "### SVM kernel polinomial\n",
    "Mejor puntaje: 0.944 \n",
    "\n",
    "### SVM kernel gaussiano\n",
    "Mejor puntaje: 0.472 \n",
    "\n",
    "### SVM kernel sigmoide\n",
    "Mejor puntaje: 0.388 \n",
    "\n",
    "### Decision trees\n",
    "Mejor puntaje: 0.944\n",
    "\n",
    "### LDA solucionador svm\n",
    "Mejor puntaje: 1.000\n",
    "\n",
    "### LDA solucionador lsqr\n",
    "Mejor puntaje: 1.000\n",
    "\n",
    "### LDA solucionador eigen\n",
    "Mejor puntaje: 0.972\n",
    "\n",
    "### Adaboost kernel lineal\n",
    "Mejor puntaje: 0.972 \n",
    "\n",
    "### Adaboost kernel decision tree\n",
    "Mejor puntaje: 0.888 \n",
    "\n",
    "De los resultados se observa que el algoritmo kNN brinda un rendimiento aceptable y este mejora cuando los datos se escalan. El algoritmo SVM se desempeña mejor para los *kernels* lineal y polinomial, y para el gaussiano y sigmoide el desempeño decae incluso a valores inaceptables. Los algoritmos de regresión lineal y decision tree brindan un desempeño alrededor del 90%. El algoritmo Adaboost se desempeña mejor con el kernel lineal que con el kernel de decision tree. El algoritmo LDA se desempeñó de manera perfecta para los solucionadores SVM y LSQR con un puntaje de 1.000, y con un puntaje de 0.972 para el solucionador con Eigenvalues.\n",
    "\n",
    "Estos resultados nos indican que para el dataset elegido, se desempeñan mejor los algoritmos lineales y se verifica que los datos son linealmente separables."
   ]
  },
  {
   "cell_type": "markdown",
   "metadata": {},
   "source": [
    "# Referencias\n",
    "\n",
    "[1] [Wine Data Set](https://archive.ics.uci.edu/ml/datasets/Wine)\n",
    "\n",
    "[2] [Train/Test Split and Cross Validation in Python](https://towardsdatascience.com/train-test-split-and-cross-validation-in-python-80b61beca4b6)\n",
    "\n",
    "[3] [How to split your dataset to train and test datasets using SciKit Learn](https://medium.com/@contactsunny/how-to-split-your-dataset-to-train-and-test-datasets-using-scikit-learn-e7cf6eb5e0d)\n",
    "\n",
    "[4] [Preprocessing in Data Science (Part 1): Centering, Scaling, and KNN](https://www.datacamp.com/community/tutorials/preprocessing-in-data-science-part-1-centering-scaling-and-knn)\n",
    "\n",
    "[5] [Supervised Learning Examples](https://github.com/fmezacr/patrones/blob/master/Supervised_Learning_Examples.ipynb)\n",
    "\n",
    "[6] [Simple and Multiple Linear Regression in Python](https://towardsdatascience.com/simple-and-multiple-linear-regression-in-python-c928425168f9)\n",
    "\n",
    "[7] [Classification Accuracy is Not Enough: More Performance Measures You Can Use](https://machinelearningmastery.com/classification-accuracy-is-not-enough-more-performance-measures-you-can-use/)\n",
    "\n",
    "[8] [AdaBoost Classifier in Python](https://www.datacamp.com/community/tutorials/adaboost-classifier-python)\n",
    "\n",
    "[9] [Implementing SVM and Kernel SVM with Python's Scikit-Learn](https://stackabuse.com/implementing-svm-and-kernel-svm-with-pythons-scikit-learn/)\n",
    "\n",
    "[10] [RBF SVM parameters](https://scikit-learn.org/stable/auto_examples/svm/plot_rbf_parameters.html)\n",
    "\n",
    "[11] [Decision Tree classification Python](https://www.datacamp.com/community/tutorials/decision-tree-classification-python)\n",
    "\n",
    "[12] [Classification — Linear Discriminant Analysis](https://towardsdatascience.com/classification-part-2-linear-discriminant-analysis-ea60c45b9ee5)\n"
   ]
  }
 ],
 "metadata": {
  "kernelspec": {
   "display_name": "Python 3",
   "language": "python",
   "name": "python3"
  },
  "language_info": {
   "codemirror_mode": {
    "name": "ipython",
    "version": 3
   },
   "file_extension": ".py",
   "mimetype": "text/x-python",
   "name": "python",
   "nbconvert_exporter": "python",
   "pygments_lexer": "ipython3",
   "version": "3.7.2"
  }
 },
 "nbformat": 4,
 "nbformat_minor": 2
}
