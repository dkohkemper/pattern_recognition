{
 "cells": [
  {
   "cell_type": "markdown",
   "metadata": {},
   "source": [
    "# Tutorial de pandas para preprocesamiento de datos\n",
    "\n",
    "Pandas es una biblioteca open source de Python con la que se puede analizar datos [5]. En este tutorial aprenderemos a realizar un preprocesamiento y limpieza de datos mediante las funciones de Pandas, con la cual se puede [2,3,4,6]:\n",
    "\n",
    "1. Convertir una lista o diccionario de Python, o un arreglo de Numpy, a un data frame de Pandas.\n",
    "2. Abrir un archivo local en formato CSV, TSV, Excel, etc, y guardar los datos en un data frame.\n",
    "3. Abrir un archivo o base de datos remoto.\n",
    "\n",
    "Para poder utilizar la biblioteca de Pandas hay primero que importarla. Con esto, queda cargada en memoria y se pueden utilizar sus funciones. Mediante el comando **import** se cargan las bibliotecas de pandas y numpy, como pd y np, respectivamente.\n",
    "\n",
    "Para utilizar cualquier función de estas bibliotecas, se utiliza la sintaxis `pd.command` o `np.command`.\n",
    "\n",
    "`import pandas as pd`\n",
    "\n",
    "`import numpy as np`\n",
    "\n",
    "Para poder realizar preprocesamiento sobre datos, es necesario aprender primero los comandos más básicos de la biblioteca.\n",
    "\n",
    "## ¿Cómo cargar y guardar datos?\n",
    "\n",
    "Para abrir un archivo se utiliza el comando\n",
    "\n",
    "`pd.read_<filetype>()`\n",
    "\n",
    "en donde *filetype* puede ser diferentes tipos de archivos.\n",
    "\n",
    "Para convertir un objeto de Python en un data frame de pandas se utiliza\n",
    "\n",
    "`pd.DataFrame()`\n",
    "\n",
    "También se puede guardar el data frame a un archivo mediante:\n",
    "\n",
    "`df.to_filetype(filename)`\n",
    "\n",
    "## ¿Cómo inspeccionar y visualizar datos?\n",
    "\n",
    "Después de tener datos cargados en un objeto, se pueden realizar las siguientes funciones:\n",
    "\n",
    "`df.head(n)` Retorna las primeras *n* filas\n",
    "\n",
    "`df.tail(n)` Retorna las últimas *n* filas\n",
    "\n",
    "`df.shape`   Retorna el número de filas y columnas\n",
    "\n",
    "`df.info()`  Retorna índice, tipo de dato e información de memoria\n",
    "\n",
    "`s.value_counts(dropna=False)` \n",
    "\n",
    "`df.describe()`\n",
    "\n",
    "Con los siguientes comandos se puede obtener información estadística de todo el data frame o una serie (columna)\n",
    "\n",
    "`df.mean()`   Retorna la media de todas las columnas\n",
    "\n",
    "`df.corr()`   Retorna la correlación entre columnas en un data frame\n",
    "\n",
    "`df.count()`  Retorna el número de valores no nulos en cada columna\n",
    "\n",
    "`df.max()`    Retorna el mayor valor de cada columna\n",
    "  \n",
    "`df.min()`    Retorna el menor valor de cada columna\n",
    "\n",
    "`df.median()` Retorna la mediana de cada columna\n",
    "\n",
    "`df.std()`    Retorna la desviación estándar de cada columna\n",
    "\n",
    "\n",
    "## ¿Cómo seleccionar datos?\n",
    "Para la manipulación de los datos en una columna o un data frame, es importante aprender los diferentes comandos que permiten seleccionar la información de maneras muy específicas.\n",
    "\n",
    "`df[col]` Selecciona una columna y la retorna con la etiqueta \"col\"\n",
    "\n",
    "`df[[col1, col2]]` Retorna las columnas como un data frame\n",
    "\n",
    "`s.iloc[0]` Selecciona por posición\n",
    "\n",
    "`s.loc['index_one']` Selecciona por índice\n",
    "\n",
    "`df.iloc[0,:]` Selecciona la primera fila\n",
    "\n",
    "`df.iloc[0,0]` Selecciona el primer elemento de la primer columna\n",
    "\n",
    "## ¿Cómo filtrar, ordenar y agrupar datos?\n",
    "\n",
    "Se pueden utilizar varios condicionales para filtrar las columnas, de acuerdo a si un valor es mayor, menor, igual, etc.\n",
    "\n",
    "`df[df[year] > 1950]` Retorna las columnas cuyo año es mayor a 1950\n",
    "\n",
    "Es posible además utilizar booleanos, como *and* y *or*\n",
    "\n",
    "`df.sort_values(col1)` Ordena los valores de la columna en orden ascendente\n",
    "\n",
    "`df.sort_values(col2,ascending=False)` Ordena los valores de la columna en orden descendente\n",
    "\n",
    "`df.sort_values([col1,col2],ascending=[True,False])` Combina el comando para dos columnas distintas\n",
    "\n",
    "## ¿Cómo unir y combinar datos?\n",
    "\n",
    "`df1.append(df2)` Agrega las filas de *df1* al final de *df2* (las columnas deben ser idénticas)\n",
    "\n",
    "`df.concat([df1, df2],axis=1)` Agrega las columnas de *df1* al final de *df2* (las filas deben ser idénticas)\n",
    "\n",
    "`df1.join(df2,on=col1,how='inner')` Estilo SQL (how puede ser `left`, `right`, `outer`, `inner`)\n",
    "\n",
    "## ¿Cómo limpiar y preprocesar datos?\n",
    "\n",
    "Ahora que sabemos utilizar comandos básicos de Pandas para el manejo de datos, podemos pasar a lo importante del tutorial, que es aprender a limpiar y preprocesar datos.\n",
    "\n",
    "En un set de datos, si existe un atributo que no fue medido para una gran cantidad de muestras, este atributo debe ser eliminado. Para esto es necesario determinar si el atributo de una muestra no existe.\n",
    "\n",
    "`pd.isnull()` Verifica valores nulos y devuelve un arreglo de booleanos (*true* para valores faltantes y *false* para valores existentes\n",
    "\n",
    "`pd.isnull().sum()` Obtiene una suma de los valores nulos o faltantes\n",
    "\n",
    "`pd.notnull()` Comando inverso de `pd.isnull()`\n",
    "\n",
    "`df.dropna()` Elimina la fila de una lista\n",
    "\n",
    "`df.dropna(axis=1)` Elimina la columna de una lista\n",
    "\n",
    "`df.fillna(x)` Llena los valores faltantes con *x*\n",
    "\n",
    "`s.fillna(s.mean())` Es posible llenar los valores con cualquier cálculo estadístico mencionado anteriormente\n",
    "\n",
    "`s.replace(1,'one')` Se pueden reemplazar valores numéricos por valores literales, y viceversa\n",
    "\n",
    "`s.replace([1,3],['one','three'])` Se pueden reemplazar varios valores a la vez\n",
    "\n",
    "`df.rename(columns={'old_name': 'new_ name'})` Renombra columnas\n",
    "\n",
    "`df.set_index('column_one')` Cambia el índice del data frame\n"
   ]
  },
  {
   "cell_type": "markdown",
   "metadata": {},
   "source": [
    "# Ejemplo de preprocesamiento de datos\n",
    "\n",
    "Ahora procederemos a utilizar varios de los comandos que vimos anteriormente, para el análisis de un set de datos. Es necesario tener el archivo con los datos al nivel del archivo .ipynb, por ejemplo, en un folder \\data. Para este tutorial se hará un análisis de datos para determinar la existencia de la enfermedad crónica de riñones (Chronic Kidney Disease CKD) [7]."
   ]
  },
  {
   "cell_type": "markdown",
   "metadata": {},
   "source": [
    "Se importan las bibliotecas de pandas y numpy"
   ]
  },
  {
   "cell_type": "code",
   "execution_count": 1,
   "metadata": {},
   "outputs": [],
   "source": [
    "# kidney_dis.py\n",
    "\n",
    "import pandas as pd\n",
    "import numpy as np"
   ]
  },
  {
   "cell_type": "markdown",
   "metadata": {},
   "source": [
    "Es necesario crear un header con los atributos de los datos. Para esto se abre el archivo y se observan las palabras marcadas con \n",
    "\n",
    "`@attribute 'nombre_de_atributo' {rango_de_valores}`\n",
    "\n",
    "Seguidamente se llama a la función que abre y lee el archivo. Este es guardado como un dataframe bajo el nombre `df`"
   ]
  },
  {
   "cell_type": "code",
   "execution_count": 2,
   "metadata": {},
   "outputs": [],
   "source": [
    "# create header for dataset\n",
    "header = ['age','bp','sg','al','su','rbc','pc','pcc',\n",
    "    'ba','bgr','bu','sc','sod','pot','hemo','pcv',\n",
    "    'wbcc','rbcc','htn','dm','cad','appet','pe','ane',\n",
    "    'classification']\n",
    "\n",
    "# read the dataset\n",
    "df = pd.read_csv(\"data/chronic_kidney_disease.arff\",\n",
    "        header=None,\n",
    "        names=header\n",
    "       )"
   ]
  },
  {
   "cell_type": "markdown",
   "metadata": {},
   "source": [
    "Algunas muestras pueden contener valores indefinidos, marcados con un `?`. Se reemplazan con un `NaN`."
   ]
  },
  {
   "cell_type": "code",
   "execution_count": 3,
   "metadata": {},
   "outputs": [],
   "source": [
    "# dataset has '?' in it, convert these into NaN\n",
    "df = df.replace('?', np.nan)"
   ]
  },
  {
   "cell_type": "markdown",
   "metadata": {},
   "source": [
    "Seguidamente es necesario eliminar las filas que contengan valores `Nan`. Con esto además se elimina del dataframe las líneas que contienen los atributos del dataset, el cual funciona como nombres de las columnas."
   ]
  },
  {
   "cell_type": "code",
   "execution_count": 4,
   "metadata": {},
   "outputs": [
    {
     "name": "stdout",
     "output_type": "stream",
     "text": [
      "   age  bp     sg al su       rbc        pc      pcc          ba  bgr  ...  \\\n",
      "30  48  70  1.005  4  0    normal  abnormal  present  notpresent  117  ...   \n",
      "36  53  90  1.020  2  0  abnormal  abnormal  present  notpresent   70  ...   \n",
      "38  63  70  1.010  3  0  abnormal  abnormal  present  notpresent  380  ...   \n",
      "\n",
      "   pcv   wbcc rbcc  htn   dm cad appet   pe  ane classification  \n",
      "30  32   6700  3.9  yes   no  no  poor  yes  yes            ckd  \n",
      "36  29  12100  3.7  yes  yes  no  poor   no  yes            ckd  \n",
      "38  32   4500  3.8  yes  yes  no  poor  yes   no            ckd  \n",
      "\n",
      "[3 rows x 25 columns]\n"
     ]
    }
   ],
   "source": [
    "# drop the NaN\n",
    "df = df.dropna(axis=0, how=\"any\")\n",
    "print(df[0:3])"
   ]
  },
  {
   "cell_type": "markdown",
   "metadata": {},
   "source": [
    "Se puede imprimir algunas filas y columnas para visualizar los datos."
   ]
  },
  {
   "cell_type": "code",
   "execution_count": 5,
   "metadata": {},
   "outputs": [
    {
     "name": "stdout",
     "output_type": "stream",
     "text": [
      "Total samples: 157\n",
      "Partial data\n",
      "    age  bp     sg al su       rbc\n",
      "30  48  70  1.005  4  0    normal\n",
      "36  53  90  1.020  2  0  abnormal\n",
      "38  63  70  1.010  3  0  abnormal\n",
      "41  68  80  1.010  3  2    normal\n"
     ]
    }
   ],
   "source": [
    "# print total samples\n",
    "print(\"Total samples:\", len(df))\n",
    "# print 4-rows and 6-columns\n",
    "print(\"Partial data\\n\", df.iloc[0:4, 0:6])"
   ]
  },
  {
   "cell_type": "markdown",
   "metadata": {},
   "source": [
    "Los valores categóricos pueden ser convertidos a algún color para ser graficados o pueden ser convertidos a valores numéricos. En este caso es posible utilizar el atributo de salida del dataset el cual indica si la muestra padece de CKD, y asignarle un color particular. Para esto primero se extrae la columna a otra variable."
   ]
  },
  {
   "cell_type": "code",
   "execution_count": 6,
   "metadata": {},
   "outputs": [
    {
     "name": "stdout",
     "output_type": "stream",
     "text": [
      "30    ckd\n",
      "36    ckd\n",
      "38    ckd\n",
      "Name: classification, dtype: category\n",
      "Categories (2, object): [ckd, notckd]\n",
      "424    notckd\n",
      "425    notckd\n",
      "Name: classification, dtype: category\n",
      "Categories (2, object): [ckd, notckd]\n"
     ]
    }
   ],
   "source": [
    "targets = df['classification'].astype('category')\n",
    "print(targets[0:3])\n",
    "print(targets[-3:-1])"
   ]
  },
  {
   "cell_type": "markdown",
   "metadata": {},
   "source": [
    "Seguidamente se cambia el valor del atributo por el color que deseamos"
   ]
  },
  {
   "cell_type": "code",
   "execution_count": 7,
   "metadata": {},
   "outputs": [],
   "source": [
    "# save target-values as color for plotting\n",
    "# red: disease,  green: no disease\n",
    "label_color = ['red' if i=='ckd' else 'green' for i in targets]"
   ]
  },
  {
   "cell_type": "markdown",
   "metadata": {},
   "source": [
    "El análisis **PCA (Principal Components Analysis)** es una técnica que realiza una transformación lineal para reducir la dimensionalidad de los datos. Para esto, se toma el atributo con mayor varianza, al cual se le llama Primer Componente Principal, y se le asigna el primer eje. El segundo atributo con mayor varianza toma el segundo eje y así sucesivamente.\n",
    "\n",
    "Este análisis se realiza sobre los atributos que son numéricos, por lo que hay eliminar los atributos categóricos."
   ]
  },
  {
   "cell_type": "code",
   "execution_count": 8,
   "metadata": {},
   "outputs": [
    {
     "name": "stdout",
     "output_type": "stream",
     "text": [
      "Partial data\n",
      "    age  bp     sg al su  bgr   bu   sc  sod  pot  hemo pcv   wbcc rbcc\n",
      "30  48  70  1.005  4  0  117   56  3.8  111  2.5  11.2  32   6700  3.9\n",
      "36  53  90  1.020  2  0   70  107  7.2  114  3.7   9.5  29  12100  3.7\n",
      "38  63  70  1.010  3  0  380   60  2.7  131  4.2  10.8  32   4500  3.8\n",
      "41  68  80  1.010  3  2  157   90  4.1  130  6.4   5.6  16  11000  2.6\n",
      "47  61  80  1.015  2  0  173  148  3.9  135  5.2   7.7  24   9200  3.2\n",
      "49  48  80  1.025  4  0   95  163  7.7  136  3.8   9.8  32   6900  3.4\n",
      "54  69  70  1.010  3  4  264   87  2.7  130  4.0  12.5  37   9600  4.1\n",
      "75  73  70  1.005  0  0   70   32  0.9  125  4.0  10.0  29  18900  3.5\n",
      "85  73  80  1.020  2  0  253  142  4.6  138  5.8  10.5  33   7200  4.3\n",
      "98  46  60  1.010  1  0  163   92  3.3  141  4.0   9.8  28  14600  3.2\n"
     ]
    }
   ],
   "source": [
    "# list of categorical features\n",
    "categorical_ = ['rbc', 'pc', 'pcc', 'ba', 'htn',\n",
    "        'dm', 'cad', 'appet', 'pe', 'ane'\n",
    "        ]\n",
    "\n",
    "# drop the \"categorical\" features\n",
    "# drop the classification column\n",
    "df = df.drop(labels=['classification'], axis=1)\n",
    "# drop using 'inplace' which is equivalent to df = df.drop()\n",
    "df.drop(labels=categorical_, axis=1, inplace=True)\n",
    "print(\"Partial data\\n\", df.iloc[0:10]) # print partial data"
   ]
  },
  {
   "cell_type": "markdown",
   "metadata": {},
   "source": [
    "Seguidamente se importan las bibliotecas de `matplotlib` y `sklearn` para poder graficar datos y utilizar el análisis PCA. Es importante recordar que usualmente se importan todas las bibliotecas necesarias al inicio del código."
   ]
  },
  {
   "cell_type": "code",
   "execution_count": 9,
   "metadata": {},
   "outputs": [],
   "source": [
    "import matplotlib.pyplot as plt\n",
    "from sklearn.decomposition import PCA"
   ]
  },
  {
   "cell_type": "code",
   "execution_count": 10,
   "metadata": {},
   "outputs": [
    {
     "data": {
      "image/png": "[encoded data removed]",
      "text/plain": [
       "<Figure size 432x288 with 1 Axes>"
      ]
     },
     "metadata": {
      "needs_background": "light"
     },
     "output_type": "display_data"
    }
   ],
   "source": [
    "# Copy dataframe to apply a correction later on\n",
    "df1 = df\n",
    "pca1 = PCA(n_components=2)\n",
    "pca1.fit(df1)\n",
    "T1 = pca1.transform(df1) # transformed data\n",
    "# change 'T' to Pandas-DataFrame to plot using Pandas-plots\n",
    "T1 = pd.DataFrame(T1)\n",
    "\n",
    "# plot the data\n",
    "T1.columns = ['PCA component 1', 'PCA component 2']\n",
    "T1.plot.scatter(x='PCA component 1', y='PCA component 2', marker='o',\n",
    "        alpha=0.7, # opacity\n",
    "        color=label_color,\n",
    "        title=\"red: ckd, green: not-ckd\" )\n",
    "plt.show()"
   ]
  },
  {
   "cell_type": "markdown",
   "metadata": {},
   "source": [
    "Con el análisis PCA se pueden graficar dos atributos \n",
    "\n",
    "Es necesario además importar la biblioteca de `preprocesing` de `sklearn` para poder mejorar el desempeño del análisis PCA"
   ]
  },
  {
   "cell_type": "code",
   "execution_count": 11,
   "metadata": {},
   "outputs": [],
   "source": [
    "from sklearn import preprocessing"
   ]
  },
  {
   "cell_type": "markdown",
   "metadata": {},
   "source": [
    "Para esto se normalizan los datos con lo que la media se ajusta a 0 y la varianza a 1 para todos los atributos."
   ]
  },
  {
   "cell_type": "code",
   "execution_count": 12,
   "metadata": {
    "scrolled": false
   },
   "outputs": [
    {
     "name": "stderr",
     "output_type": "stream",
     "text": [
      "C:\\Users\\dkohkemper\\AppData\\Local\\conda\\conda\\envs\\Inv-Corta-1.ipynb\\lib\\site-packages\\sklearn\\preprocessing\\data.py:625: DataConversionWarning: Data with input dtype object were all converted to float64 by StandardScaler.\n",
      "  return self.partial_fit(X, y)\n",
      "C:\\Users\\dkohkemper\\AppData\\Local\\conda\\conda\\envs\\Inv-Corta-1.ipynb\\lib\\site-packages\\sklearn\\base.py:462: DataConversionWarning: Data with input dtype object were all converted to float64 by StandardScaler.\n",
      "  return self.fit(X, **fit_params).transform(X)\n"
     ]
    },
    {
     "data": {
      "image/png": "[encoded data removed]",
      "text/plain": [
       "<Figure size 432x288 with 1 Axes>"
      ]
     },
     "metadata": {
      "needs_background": "light"
     },
     "output_type": "display_data"
    }
   ],
   "source": [
    "# Copy dataframe to apply a different processing\n",
    "df2 = df\n",
    "\n",
    "# StandardScaler: mean=0, variance=1\n",
    "df2 = preprocessing.StandardScaler().fit_transform(df2)\n",
    "\n",
    "pca2 = PCA(n_components=2)\n",
    "pca2.fit(df2)\n",
    "T2 = pca2.transform(df2) # transformed data\n",
    "# change 'T' to Pandas-DataFrame to plot using Pandas-plots\n",
    "T2 = pd.DataFrame(T2)\n",
    "\n",
    "# plot the data\n",
    "T2.columns = ['PCA component 1', 'PCA component 2']\n",
    "T2.plot.scatter(x='PCA component 1', y='PCA component 2', marker='o',\n",
    "        alpha=0.7, # opacity\n",
    "        color=label_color,\n",
    "        title=\"red: ckd, green: not-ckd\" )\n",
    "plt.show()"
   ]
  },
  {
   "cell_type": "markdown",
   "metadata": {},
   "source": [
    "Se observa que al normalizar los datos, es más evidente la separación de datos que indica cuáles muestras presentan la enfermedad cónica de riñón. El comando fit_transform devuelve una advertencia sobre el tipo de dato al cual está convirtiendo pero este puede ser ignorado."
   ]
  },
  {
   "cell_type": "markdown",
   "metadata": {},
   "source": [
    "# Conclusiones\n",
    "\n",
    "En este tutorial se explicó en qué consiste la biblioteca `Pandas` en Python y cómo puede ser utilizada para el análisis y procesamiento de datos. Se mostraron comandos básicos para poder cargar, manejar y limpiar datos provenientes de un dataset, que son muy comunes de encontrar en internet. Finalmente, se mostró el uso de otras bibliotecas como `matplotlib` para graficar datos así como `sklearn` para el preprocesamiento y análisis PCA de datos."
   ]
  },
  {
   "cell_type": "markdown",
   "metadata": {},
   "source": [
    "# Referencias\n",
    "\n",
    "[1] [Jupyter Notebook Tutorial: The Definitive Guide](https://www.datacamp.com/community/tutorials/tutorial-jupyter-notebook)\n",
    "\n",
    "[2] [Cleaning Dirty Data with Pandas & Python](http://www.developintelligence.com/blog/2017/08/data-cleaning-pandas-python/)\n",
    "\n",
    "[3] [Pythonic Data Cleaning With NumPy and Pandas](https://realpython.com/python-data-cleaning-numpy-pandas/)\n",
    "\n",
    "[4] [12 Useful Pandas Techniques in Python for Data Manipulation](https://www.analyticsvidhya.com/blog/2016/01/12-pandas-techniques-python-data-manipulation/)\n",
    "\n",
    "[5] [A Quick Introduction to the “Pandas” Python Library](https://towardsdatascience.com/a-quick-introduction-to-the-pandas-python-library-f1b678f34673)\n",
    "\n",
    "[6] [Basic Time Series Manipulation with Pandas](https://towardsdatascience.com/basic-time-series-manipulation-with-pandas-4432afee64ea)\n",
    "\n",
    "[7] [8. Preprocessing of the data using Pandas and SciKit](https://mclguide.readthedocs.io/en/latest/sklearn/preprocessing.html#basic-pca-analysis)"
   ]
  }
 ],
 "metadata": {
  "kernelspec": {
   "display_name": "Python 3",
   "language": "python",
   "name": "python3"
  },
  "language_info": {
   "codemirror_mode": {
    "name": "ipython",
    "version": 3
   },
   "file_extension": ".py",
   "mimetype": "text/x-python",
   "name": "python",
   "nbconvert_exporter": "python",
   "pygments_lexer": "ipython3",
   "version": "3.7.2"
  }
 },
 "nbformat": 4,
 "nbformat_minor": 2
}
