{
 "cells": [
  {
   "cell_type": "markdown",
   "metadata": {},
   "source": [
    "# **Reconocimiento de Patrones - Proyecto final**\n",
    "# Reconocimiento de letras del alfabeto inglés\n",
    "# Ing. Daniel Kohkemper\n",
    "\n",
    "________________________________________________________________________________________________\n",
    "\n",
    "## 1. Introducción\n",
    "\n",
    "El archivo de datos de este proyecto fue creado en 1991 por David Slate [1]. El mismo consiste en un conjunto de valores estadísticos obtenidos de imágenes rectangulares en blanco y negro de las 26 letras del alfabeto inglés y cada imagen fue levemente distorsionada. Los datos no presentan valores faltantes y vienen en formato numérico (no existen valores categóricos), lo cual facilita mucho el preprocesamiento de los mismos. \n",
    "\n",
    "Existen 20.000 muestras del alfabeto inglés, lo cual da un promedio de 769 muestras por letra. Se utilizaron 20 tipos de fuente diferentes, con 5 tipos diferentes de trazo y 6 tipos diferentes de letras, generados de manera aleatoria siguiendo una distribución uniforme.\n",
    "\n",
    "En 1991, este problema se consideraba uno difícil, debido a ''la amplia diversidad de fuentes y la naturaleza primitiva de los datos''. En el trabajo de Slate [2] se encuentra el proceso de obtención de los datos de manera más detallada, el cual en la actualidad se puede describir como un trabajo de la rama del Procesamiento de Imágenes. Un ejemplo de las letras utilizadas se puede observar en la siguiente figura:\n",
    "\n",
    "![Título](fig/letras_ex.png)\n",
    "\n",
    "Para cada imagen, se obtuvieron diferentes métricas y estadísticas, las cuales fueron normalizadas en un rango de 0 a 15 descritas a continuación. \n",
    "\n",
    "1.\tlettr\tLetra mayúscula\t(26 valores de A a Z) \n",
    "2.\tx-box\tposición horizontal de la imagen\n",
    "3.\ty-box\tposición vertical de la imagen\n",
    "4.\twidth\tancho de la imagen en pixeles\n",
    "5.\thigh    alto de la imagen en pixeles\n",
    "6.\tonpix\t# total de pixeles en el caracter\n",
    "7.\tx-bar\tmedia horizontal (x) de pixeles encendidos\n",
    "8.\ty-bar\tmedia vertical (y) de pixeles encendidos\n",
    "9.\tx2bar\tmedia cuadrática horizontal de 7.\n",
    "10.\ty2bar\tmedia cuadrática vertical de 8.\n",
    "11.\txybar\tmedia de correlación x y\n",
    "12.\tx2ybr\tmedia de x * x * y \n",
    "13.\txy2br\tmedia de x * y * y\n",
    "14.\tx-ege\tvalor medio de bordes de izq a der\n",
    "15.\txegvy\tcorrelación de bordes en x con y\t\n",
    "16.\ty-ege\tvalor medio de bordes de abajo hacia arriba\n",
    "17.\tyegvx\tcorrelación de bordes en y con x\n",
    "\n",
    "El conjunto de datos fue utilizado en un estudio realizado por D. Slate, que utiliza un sistema de clasificación adaptativa basado en aquel de J.H. Holland, el cual consiste en la creación de una lista de reglas condición-acción (clasificadores) que son aplicadas en paralelo a un conjunto de mensajes (entradas).\n",
    "\n",
    "El sistema consiste en los siguientes pasos:\n",
    "\n",
    "1. Un algoritmo de desempeño que compara las reglas con los mensajes para determinar cuáles reglas deben ser activadas.\n",
    "2. Un algoritmo de reforzamiento que modifica el puntaje o fuerza de cada regla.\n",
    "3. Un algoritmo que crea reglas que generaliza ejemplares o combina reglas para crear nuevas.\n",
    "\n",
    "El aprendizaje del sistema se realizó mediante la separación del set de datos de 20.000 en 16.000 datos de entrenamiento y 4.000 de prueba, lo que representa un porcentaje de 80%-20%. El programa se corrió 5 veces con el set de entrenamiento (se presupone una cross-validación) en lo que se crearon nuevas reglas, se descartaron las insatisfactorias y se modificaron las estadísticas respectivamente de cada regla. De esta manera se logró expandir el conjunto de pruebas a 80.000. La sexta pasada se realizó sin generar nuevas reglas, y aquellas que no lograron cumplir los niveles de desempeño pre-establecidos fueron descartadas. Finalmente, se estimuló el sistema con el set de prueba para determinar el nivel global de desempeño del sistema, en el cual no se generaron ni modificaron reglas, sino que se obtuvieron las métricas de desempeño finales.\n",
    "\n",
    "El sistema de clasificación se describe a continuación:\n",
    "\n",
    "1. Comparar el vector de atributos de un ítem de prueba (muestra) con los atributos especificados para cada clasificador en la regla actual.\n",
    "2. Seleccionar un set que se ajuste [M] que consiste en todos los clasificadores cuyas condiciones son satisfechas por el vector de atributos de la muestra.\n",
    "3. Calcular un puntaje (o apuesta) para cada clasificador del set M. Asignar la categoría asociada con el puntaje máximo como salida del sistema.\n",
    "4. Si se está en fase de aprendizaje, modificar las estadísticas de desempeño de uno o más clasificadores como es especificado por el sistema de puntajes.\n",
    "5. Si se está en la fase de aprendizaje, descartar las reglas débiles y crear nuevas reglas de acuerdo al algoritmo de creación de reglas.\n",
    "6. Seleccionar el siguiente ítem de prueba (muestra) y repetir el proceso.\n",
    "\n",
    "De manera resumida, el sistema de codificación de atributos utiliza tres métodos distintos: binario (BIN), codificación Gray (GRA) y entero (INT). El sistema de creación de reglas se realiza por medio de varios métodos: aleatorio (RAN), híbrido (HYB), \n",
    "mutación (MUT), combinación de dos reglas (CROSS) y generalización basada en ejemplos (EXM). Una explicación más detallada de estos procedimientos además del sistema de puntaje puede revisarse en [2].\n",
    "\n",
    "La investigación reporta un porcentaje de correcta clasificación de muestras de la siguiente manera:\n",
    "\n",
    "1. Binario:   43,2% - 54,7%\n",
    "2. Gray Code: 45,9& - 59,3%\n",
    "3. Entero:    70,4% - 80,0%\n",
    "\n",
    "### Aprendizaje de máquina basado en reglas\n",
    "\n",
    "Esta rama abarca cualquier método que identifica, aprende o evoluciona un conjunto de reglas. El conocimiento completo del sistema se basa en las relaciones que se puedan hacer entre los datos de entrada con sus salidas por medio del conjunto de reglas. Estos sistemas dependen de conocimiento contextual de la semántica de los datos, por lo que su uso no es universal y aplica dentro del propio significa de los datos. Típicamente, las reglas se generan en la forma IF ... THEN, es decir, condición y resultado.\n",
    "\n",
    "Estos sistemas tienen alguna semejanza con los árboles de decisión, así como también poseen varias diferencias. En los sistemas basados en reglas, se puede hacer un enfoque top-down o bottom-up con el que se puede llegar a una clasificación de lo general a lo particular o viceversa. Los árboles de búsqueda siguen más bien una direción top-down. Por otro lado, en un sistema de reglas, estas son generadas por un humano, mientras que en un árbol se generan a partir de las propiedades estadísticas y la distribución de los datos. Usualmente se decide usar la última cuando el sistema es muy complejo de entender para poder crear las reglas de manera manual, las cuales dependen de la habilidad del diseñador de poder describir enteramente el problema.\n",
    "\n",
    "### Conclusiones preliminares sobre el estudio\n",
    "\n",
    "Se observa que este estudio tiene casi 30 años de haberse realizado, lapso en el cual las metodologías y tecnologías de reconocimiento de patrones y aprendizaje supervisado han avanzado bastante. El método de clasificación por reglas es poco utilizado actualmente, con lo que sería un buen caso de estudio probar el set de datos con métodos más utilizados recientemente, e incluso por medio de redes neuronales.\n"
   ]
  },
  {
   "cell_type": "markdown",
   "metadata": {},
   "source": [
    "## Preprocesamiento\n",
    "\n",
    "Aunque se indicó anteriormente que el set de datos es bastante íntegro y no posee valores faltantes, se utiliza el código para eliminar datos faltantes. Se cargan además las bibliotecas básicas y se asignan los nombres de los atributos del set de datos así como la variable de salida."
   ]
  },
  {
   "cell_type": "code",
   "execution_count": 1,
   "metadata": {},
   "outputs": [
    {
     "data": {
      "text/html": [
       "<div>\n",
       "<style scoped>\n",
       "    .dataframe tbody tr th:only-of-type {\n",
       "        vertical-align: middle;\n",
       "    }\n",
       "\n",
       "    .dataframe tbody tr th {\n",
       "        vertical-align: top;\n",
       "    }\n",
       "\n",
       "    .dataframe thead th {\n",
       "        text-align: right;\n",
       "    }\n",
       "</style>\n",
       "<table border=\"1\" class=\"dataframe\">\n",
       "  <thead>\n",
       "    <tr style=\"text-align: right;\">\n",
       "      <th></th>\n",
       "      <th>letter</th>\n",
       "      <th>x_box</th>\n",
       "      <th>y_box</th>\n",
       "      <th>width</th>\n",
       "      <th>high</th>\n",
       "      <th>onpix</th>\n",
       "      <th>x_bar</th>\n",
       "      <th>y_bar</th>\n",
       "      <th>x2bar</th>\n",
       "      <th>y2bar</th>\n",
       "      <th>xybar</th>\n",
       "      <th>x2ybr</th>\n",
       "      <th>xy2br</th>\n",
       "      <th>x_ege</th>\n",
       "      <th>xegvy</th>\n",
       "      <th>y_ege</th>\n",
       "      <th>yegvx</th>\n",
       "    </tr>\n",
       "  </thead>\n",
       "  <tbody>\n",
       "    <tr>\n",
       "      <th>0</th>\n",
       "      <td>T</td>\n",
       "      <td>2</td>\n",
       "      <td>8</td>\n",
       "      <td>3</td>\n",
       "      <td>5</td>\n",
       "      <td>1</td>\n",
       "      <td>8</td>\n",
       "      <td>13</td>\n",
       "      <td>0</td>\n",
       "      <td>6</td>\n",
       "      <td>6</td>\n",
       "      <td>10</td>\n",
       "      <td>8</td>\n",
       "      <td>0</td>\n",
       "      <td>8</td>\n",
       "      <td>0</td>\n",
       "      <td>8</td>\n",
       "    </tr>\n",
       "    <tr>\n",
       "      <th>1</th>\n",
       "      <td>I</td>\n",
       "      <td>5</td>\n",
       "      <td>12</td>\n",
       "      <td>3</td>\n",
       "      <td>7</td>\n",
       "      <td>2</td>\n",
       "      <td>10</td>\n",
       "      <td>5</td>\n",
       "      <td>5</td>\n",
       "      <td>4</td>\n",
       "      <td>13</td>\n",
       "      <td>3</td>\n",
       "      <td>9</td>\n",
       "      <td>2</td>\n",
       "      <td>8</td>\n",
       "      <td>4</td>\n",
       "      <td>10</td>\n",
       "    </tr>\n",
       "    <tr>\n",
       "      <th>2</th>\n",
       "      <td>D</td>\n",
       "      <td>4</td>\n",
       "      <td>11</td>\n",
       "      <td>6</td>\n",
       "      <td>8</td>\n",
       "      <td>6</td>\n",
       "      <td>10</td>\n",
       "      <td>6</td>\n",
       "      <td>2</td>\n",
       "      <td>6</td>\n",
       "      <td>10</td>\n",
       "      <td>3</td>\n",
       "      <td>7</td>\n",
       "      <td>3</td>\n",
       "      <td>7</td>\n",
       "      <td>3</td>\n",
       "      <td>9</td>\n",
       "    </tr>\n",
       "    <tr>\n",
       "      <th>3</th>\n",
       "      <td>N</td>\n",
       "      <td>7</td>\n",
       "      <td>11</td>\n",
       "      <td>6</td>\n",
       "      <td>6</td>\n",
       "      <td>3</td>\n",
       "      <td>5</td>\n",
       "      <td>9</td>\n",
       "      <td>4</td>\n",
       "      <td>6</td>\n",
       "      <td>4</td>\n",
       "      <td>4</td>\n",
       "      <td>10</td>\n",
       "      <td>6</td>\n",
       "      <td>10</td>\n",
       "      <td>2</td>\n",
       "      <td>8</td>\n",
       "    </tr>\n",
       "    <tr>\n",
       "      <th>4</th>\n",
       "      <td>G</td>\n",
       "      <td>2</td>\n",
       "      <td>1</td>\n",
       "      <td>3</td>\n",
       "      <td>1</td>\n",
       "      <td>1</td>\n",
       "      <td>8</td>\n",
       "      <td>6</td>\n",
       "      <td>6</td>\n",
       "      <td>6</td>\n",
       "      <td>6</td>\n",
       "      <td>5</td>\n",
       "      <td>9</td>\n",
       "      <td>1</td>\n",
       "      <td>7</td>\n",
       "      <td>5</td>\n",
       "      <td>10</td>\n",
       "    </tr>\n",
       "  </tbody>\n",
       "</table>\n",
       "</div>"
      ],
      "text/plain": [
       "  letter  x_box  y_box  width  high  onpix  x_bar  y_bar  x2bar  y2bar  xybar  \\\n",
       "0      T      2      8      3     5      1      8     13      0      6      6   \n",
       "1      I      5     12      3     7      2     10      5      5      4     13   \n",
       "2      D      4     11      6     8      6     10      6      2      6     10   \n",
       "3      N      7     11      6     6      3      5      9      4      6      4   \n",
       "4      G      2      1      3     1      1      8      6      6      6      6   \n",
       "\n",
       "   x2ybr  xy2br  x_ege  xegvy  y_ege  yegvx  \n",
       "0     10      8      0      8      0      8  \n",
       "1      3      9      2      8      4     10  \n",
       "2      3      7      3      7      3      9  \n",
       "3      4     10      6     10      2      8  \n",
       "4      5      9      1      7      5     10  "
      ]
     },
     "execution_count": 1,
     "metadata": {},
     "output_type": "execute_result"
    }
   ],
   "source": [
    "# Import necessary libraries\n",
    "import pandas as pd\n",
    "import numpy as np\n",
    "import matplotlib.pyplot as plt\n",
    "from sklearn import preprocessing\n",
    "from sklearn.model_selection import train_test_split\n",
    "from sklearn import neighbors\n",
    "from sklearn.neighbors import KNeighborsClassifier\n",
    "from sklearn.tree import DecisionTreeClassifier\n",
    "\n",
    "# Ignore warnings\n",
    "import warnings\n",
    "warnings.filterwarnings('ignore', category=UserWarning, append=True)\n",
    "\n",
    "# URL address of data set\n",
    "url = \"https://archive.ics.uci.edu/ml/machine-learning-databases/letter-recognition/letter-recognition.data\"\n",
    "\n",
    "# Define header of dataset, obtain this information from dataset information\n",
    "# This is taken from the data set itself\n",
    "header = ['letter', 'x_box', 'y_box', 'width','high','onpix','x_bar','y_bar','x2bar','y2bar','xybar','x2ybr','xy2br','x_ege','xegvy','y_ege', 'yegvx']\n",
    "\n",
    "# load dataset as csv file\n",
    "df = pd.read_csv(\"data/letter_recognition.data\",header=None,names=header)\n",
    "\n",
    "# if dataset has '?' in it, convert these into NaN\n",
    "df = df.replace('?', np.nan)\n",
    "# drop the NaN\n",
    "df = df.dropna(axis=0, how=\"any\")\n",
    "\n",
    "# Print some values of the data set\n",
    "df.head(5)\n"
   ]
  },
  {
   "cell_type": "markdown",
   "metadata": {},
   "source": [
    "Para facilitar el manejo y graficación de los datos, se reducirá el set de datos temporalmente a las 5 vocales del alfabeto."
   ]
  },
  {
   "cell_type": "code",
   "execution_count": 2,
   "metadata": {},
   "outputs": [
    {
     "data": {
      "text/html": [
       "<div>\n",
       "<style scoped>\n",
       "    .dataframe tbody tr th:only-of-type {\n",
       "        vertical-align: middle;\n",
       "    }\n",
       "\n",
       "    .dataframe tbody tr th {\n",
       "        vertical-align: top;\n",
       "    }\n",
       "\n",
       "    .dataframe thead th {\n",
       "        text-align: right;\n",
       "    }\n",
       "</style>\n",
       "<table border=\"1\" class=\"dataframe\">\n",
       "  <thead>\n",
       "    <tr style=\"text-align: right;\">\n",
       "      <th></th>\n",
       "      <th>letter</th>\n",
       "      <th>x_box</th>\n",
       "      <th>y_box</th>\n",
       "      <th>width</th>\n",
       "      <th>high</th>\n",
       "      <th>onpix</th>\n",
       "      <th>x_bar</th>\n",
       "      <th>y_bar</th>\n",
       "      <th>x2bar</th>\n",
       "      <th>y2bar</th>\n",
       "      <th>xybar</th>\n",
       "      <th>x2ybr</th>\n",
       "      <th>xy2br</th>\n",
       "      <th>x_ege</th>\n",
       "      <th>xegvy</th>\n",
       "      <th>y_ege</th>\n",
       "      <th>yegvx</th>\n",
       "    </tr>\n",
       "  </thead>\n",
       "  <tbody>\n",
       "    <tr>\n",
       "      <th>1</th>\n",
       "      <td>I</td>\n",
       "      <td>5</td>\n",
       "      <td>12</td>\n",
       "      <td>3</td>\n",
       "      <td>7</td>\n",
       "      <td>2</td>\n",
       "      <td>10</td>\n",
       "      <td>5</td>\n",
       "      <td>5</td>\n",
       "      <td>4</td>\n",
       "      <td>13</td>\n",
       "      <td>3</td>\n",
       "      <td>9</td>\n",
       "      <td>2</td>\n",
       "      <td>8</td>\n",
       "      <td>4</td>\n",
       "      <td>10</td>\n",
       "    </tr>\n",
       "    <tr>\n",
       "      <th>7</th>\n",
       "      <td>A</td>\n",
       "      <td>1</td>\n",
       "      <td>1</td>\n",
       "      <td>3</td>\n",
       "      <td>2</td>\n",
       "      <td>1</td>\n",
       "      <td>8</td>\n",
       "      <td>2</td>\n",
       "      <td>2</td>\n",
       "      <td>2</td>\n",
       "      <td>8</td>\n",
       "      <td>2</td>\n",
       "      <td>8</td>\n",
       "      <td>1</td>\n",
       "      <td>6</td>\n",
       "      <td>2</td>\n",
       "      <td>7</td>\n",
       "    </tr>\n",
       "    <tr>\n",
       "      <th>11</th>\n",
       "      <td>O</td>\n",
       "      <td>6</td>\n",
       "      <td>13</td>\n",
       "      <td>4</td>\n",
       "      <td>7</td>\n",
       "      <td>4</td>\n",
       "      <td>6</td>\n",
       "      <td>7</td>\n",
       "      <td>6</td>\n",
       "      <td>3</td>\n",
       "      <td>10</td>\n",
       "      <td>7</td>\n",
       "      <td>9</td>\n",
       "      <td>5</td>\n",
       "      <td>9</td>\n",
       "      <td>5</td>\n",
       "      <td>8</td>\n",
       "    </tr>\n",
       "    <tr>\n",
       "      <th>16</th>\n",
       "      <td>O</td>\n",
       "      <td>3</td>\n",
       "      <td>4</td>\n",
       "      <td>4</td>\n",
       "      <td>3</td>\n",
       "      <td>2</td>\n",
       "      <td>8</td>\n",
       "      <td>7</td>\n",
       "      <td>7</td>\n",
       "      <td>5</td>\n",
       "      <td>7</td>\n",
       "      <td>6</td>\n",
       "      <td>8</td>\n",
       "      <td>2</td>\n",
       "      <td>8</td>\n",
       "      <td>3</td>\n",
       "      <td>8</td>\n",
       "    </tr>\n",
       "    <tr>\n",
       "      <th>23</th>\n",
       "      <td>O</td>\n",
       "      <td>6</td>\n",
       "      <td>11</td>\n",
       "      <td>7</td>\n",
       "      <td>8</td>\n",
       "      <td>5</td>\n",
       "      <td>7</td>\n",
       "      <td>6</td>\n",
       "      <td>9</td>\n",
       "      <td>6</td>\n",
       "      <td>7</td>\n",
       "      <td>5</td>\n",
       "      <td>9</td>\n",
       "      <td>4</td>\n",
       "      <td>8</td>\n",
       "      <td>5</td>\n",
       "      <td>5</td>\n",
       "    </tr>\n",
       "  </tbody>\n",
       "</table>\n",
       "</div>"
      ],
      "text/plain": [
       "   letter  x_box  y_box  width  high  onpix  x_bar  y_bar  x2bar  y2bar  \\\n",
       "1       I      5     12      3     7      2     10      5      5      4   \n",
       "7       A      1      1      3     2      1      8      2      2      2   \n",
       "11      O      6     13      4     7      4      6      7      6      3   \n",
       "16      O      3      4      4     3      2      8      7      7      5   \n",
       "23      O      6     11      7     8      5      7      6      9      6   \n",
       "\n",
       "    xybar  x2ybr  xy2br  x_ege  xegvy  y_ege  yegvx  \n",
       "1      13      3      9      2      8      4     10  \n",
       "7       8      2      8      1      6      2      7  \n",
       "11     10      7      9      5      9      5      8  \n",
       "16      7      6      8      2      8      3      8  \n",
       "23      7      5      9      4      8      5      5  "
      ]
     },
     "execution_count": 2,
     "metadata": {},
     "output_type": "execute_result"
    }
   ],
   "source": [
    "df = df[(df.letter == 'A') | (df.letter == 'E') | (df.letter == 'I') | (df.letter == 'O') | (df.letter == 'U')]\n",
    "\n",
    "df.head(5)"
   ]
  },
  {
   "cell_type": "markdown",
   "metadata": {},
   "source": [
    "Ahora se separan los atributos y la clase en variables separadas, para los procesos de entrenamiento"
   ]
  },
  {
   "cell_type": "code",
   "execution_count": 3,
   "metadata": {},
   "outputs": [
    {
     "data": {
      "text/plain": [
       "array(['I', 'A', 'O', ..., 'O', 'E', 'A'], dtype=object)"
      ]
     },
     "execution_count": 3,
     "metadata": {},
     "output_type": "execute_result"
    }
   ],
   "source": [
    "# from sklearn import preprocessing\n",
    "\n",
    "# Make a list of features only\n",
    "features = ['x_box', 'y_box', 'width','high','onpix','x_bar','y_bar','x2bar','y2bar','xybar','x2ybr','xy2br','x_ege','xegvy','y_ege', 'yegvx']\n",
    "\n",
    "# Separate features from class(es)\n",
    "input_features = df.loc[:,features].values\n",
    "output_class   = df.loc[:,['letter']].values\n",
    "# Squeeze output into one single column\n",
    "output_class     = output_class.ravel()\n",
    "\n",
    "# Print variable to verify classes are letters\n",
    "output_class"
   ]
  },
  {
   "cell_type": "markdown",
   "metadata": {},
   "source": [
    "Ahora se crea una copia de la clase codificada con valores numéricos para el entrenamiento de las redes neuronales"
   ]
  },
  {
   "cell_type": "code",
   "execution_count": 4,
   "metadata": {},
   "outputs": [
    {
     "data": {
      "text/plain": [
       "array([2, 0, 3, ..., 3, 1, 0], dtype=object)"
      ]
     },
     "execution_count": 4,
     "metadata": {},
     "output_type": "execute_result"
    }
   ],
   "source": [
    "# Make a compy of class values (letters at this points)\n",
    "output_class_num = df.loc[:,['letter']].values\n",
    "# Squeeze output into one single column\n",
    "output_class_num= output_class_num.ravel()\n",
    "\n",
    "# Apply label encoder to convert letters to numbers (this will be needed for the neural network)\n",
    "le = preprocessing.LabelEncoder()\n",
    "output_class_num[:] = le.fit_transform(output_class_num[:])\n",
    "\n",
    "# Print variable to verify classes are numbers\n",
    "output_class_num"
   ]
  },
  {
   "cell_type": "markdown",
   "metadata": {},
   "source": [
    "## Análisis explotorio de datos\n",
    "\n",
    "Antes de proceder con el aprendizaje automático, se realiza un análisis exploratorio de los datos por medio de gráficas y aprendizaje no supervisado para poder tener más información y sentido del set de datos."
   ]
  },
  {
   "cell_type": "code",
   "execution_count": 21,
   "metadata": {},
   "outputs": [
    {
     "data": {
      "image/png": "[encoded data removed]",
      "text/plain": [
       "<Figure size 720x720 with 16 Axes>"
      ]
     },
     "metadata": {},
     "output_type": "display_data"
    }
   ],
   "source": [
    "%matplotlib inline\n",
    "plt.style.use('ggplot')\n",
    "pd.DataFrame.hist(df, figsize = [10,10]);"
   ]
  },
  {
   "cell_type": "code",
   "execution_count": 6,
   "metadata": {},
   "outputs": [
    {
     "data": {
      "text/plain": [
       "array(['I', 'A', 'O', ..., 'O', 'E', 'A'], dtype=object)"
      ]
     },
     "execution_count": 6,
     "metadata": {},
     "output_type": "execute_result"
    }
   ],
   "source": [
    "from sklearn.model_selection import train_test_split\n",
    "\n",
    "# Separate data intro training and test sets\n",
    "x_train, x_test, y_train, y_test = train_test_split(input_features, output_class, test_size=0.20, random_state=50)\n",
    "\n",
    "output_class"
   ]
  },
  {
   "cell_type": "markdown",
   "metadata": {},
   "source": [
    "### Análisis PCA\n",
    "\n",
    "Ahora se realiza un análisis de componentes principales para determinar cómo es el comportamiento e importancia de los diferentes atributos del set de datos con respecto a la clasificación."
   ]
  },
  {
   "cell_type": "code",
   "execution_count": 7,
   "metadata": {},
   "outputs": [
    {
     "name": "stdout",
     "output_type": "stream",
     "text": [
      "[0.30443498 0.52778124 0.66355855 0.74949205 0.80869949 0.8538637\n",
      " 0.8901155  0.91368788 0.93685236 0.95234255 0.96640291 0.97676916\n",
      " 0.98458007 0.99134736 0.99655918 1.        ]\n"
     ]
    },
    {
     "data": {
      "image/png": "[encoded data removed]",
      "text/plain": [
       "<Figure size 576x576 with 1 Axes>"
      ]
     },
     "metadata": {},
     "output_type": "display_data"
    }
   ],
   "source": [
    "import matplotlib.pyplot as plt\n",
    "from sklearn.decomposition import PCA\n",
    "\n",
    "from sklearn.preprocessing import StandardScaler\n",
    "\n",
    "input_feat_scaled = StandardScaler().fit_transform(input_features)\n",
    "\n",
    "n_atributes = input_features.shape[1]\n",
    "\n",
    "# Se extrae el PCA y se introducen en los datos\n",
    "pca = PCA(n_components = input_features.shape[1])\n",
    "principalComponents = pca.fit_transform(input_features)\n",
    "\n",
    "# Nombra cada una de las componentes del PCA\n",
    "pca_features = ['PCA' + str(i) for i in range(n_atributes)]\n",
    "principalDf = pd.DataFrame(data = principalComponents, columns = pca_features)\n",
    "\n",
    "# Grafica los datos\n",
    "fig = plt.figure(figsize = (8,8))\n",
    "ax = fig.add_subplot(1,1,1) \n",
    "#Grafica las componentes de PCA según su porcentaje\n",
    "ax.bar(range(n_atributes),pca.explained_variance_ratio_)\n",
    "ax.set_xlabel('Componentes', fontsize = 15)\n",
    "ax.set_xticklabels(pca_features)\n",
    "ax.set_ylabel('Porcentaje (%)')\n",
    "ax.set_title('Proporción componentes PCA',fontsize = 20)\n",
    "ax.grid()\n",
    "\n",
    "print(pca.explained_variance_ratio_.cumsum())"
   ]
  },
  {
   "cell_type": "code",
   "execution_count": 8,
   "metadata": {},
   "outputs": [
    {
     "name": "stderr",
     "output_type": "stream",
     "text": [
      "'c' argument looks like a single numeric RGB or RGBA sequence, which should be avoided as value-mapping will have precedence in case its length matches with 'x' & 'y'.  Please use a 2-D array with a single row if you really want to specify the same RGB or RGBA value for all points.\n",
      "'c' argument looks like a single numeric RGB or RGBA sequence, which should be avoided as value-mapping will have precedence in case its length matches with 'x' & 'y'.  Please use a 2-D array with a single row if you really want to specify the same RGB or RGBA value for all points.\n",
      "'c' argument looks like a single numeric RGB or RGBA sequence, which should be avoided as value-mapping will have precedence in case its length matches with 'x' & 'y'.  Please use a 2-D array with a single row if you really want to specify the same RGB or RGBA value for all points.\n",
      "'c' argument looks like a single numeric RGB or RGBA sequence, which should be avoided as value-mapping will have precedence in case its length matches with 'x' & 'y'.  Please use a 2-D array with a single row if you really want to specify the same RGB or RGBA value for all points.\n",
      "'c' argument looks like a single numeric RGB or RGBA sequence, which should be avoided as value-mapping will have precedence in case its length matches with 'x' & 'y'.  Please use a 2-D array with a single row if you really want to specify the same RGB or RGBA value for all points.\n"
     ]
    },
    {
     "data": {
      "image/png": "[encoded data removed]",
      "text/plain": [
       "<Figure size 576x576 with 1 Axes>"
      ]
     },
     "metadata": {},
     "output_type": "display_data"
    }
   ],
   "source": [
    "from sklearn.utils import column_or_1d\n",
    "from sklearn import preprocessing\n",
    "\n",
    "# Se apagan los warnings para evitar las alertas de posibles cambios de versión en Python3\n",
    "import warnings\n",
    "warnings.filterwarnings('ignore', category=UnicodeWarning, append=True)\n",
    "\n",
    "# Se escoge graficar solo dos componentes\n",
    "pca = PCA(n_components=2)\n",
    "principalComponents = pca.fit_transform(input_features)\n",
    "\n",
    "principalDf = pd.DataFrame(data = principalComponents)\n",
    "\n",
    "le = preprocessing.LabelEncoder()\n",
    "le.fit(df[['letter']])\n",
    "targets = le.classes_.ravel()\n",
    "\n",
    "#Se concatenan las componentes de PCA con los targets\n",
    "finalDf = pd.concat([principalDf, df[['letter']]], axis = 1)\n",
    "\n",
    "fig = plt.figure(figsize = (8,8))\n",
    "ax = fig.add_subplot(1,1,1) \n",
    "ax.set_xlabel('Principal Component 1', fontsize = 15)\n",
    "ax.set_ylabel('Principal Component 2', fontsize = 15)\n",
    "ax.set_title('Principal Components of Dataset', fontsize = 20)\n",
    "\n",
    "# Agrupar todos los targets\n",
    "for target in targets:\n",
    "    # Busca los indices que sean iguales al target\n",
    "    indices = finalDf['letter'] == target\n",
    "    # Grafica los puntos encontrados con un color aleatorio, pero igual para los del mismo target\n",
    "    ax.scatter(finalDf.loc[indices, 0]\n",
    "               , finalDf.loc[indices, 1]\n",
    "               , c = np.random.rand(3,)\n",
    "               , s = 50)\n",
    "    \n",
    "#Se enciende el grid y se muestra que significa cada color\n",
    "ax.legend(targets)\n",
    "ax.grid()"
   ]
  },
  {
   "cell_type": "markdown",
   "metadata": {},
   "source": [
    "## k-Nearest NeighborsM"
   ]
  },
  {
   "cell_type": "code",
   "execution_count": 9,
   "metadata": {},
   "outputs": [
    {
     "name": "stdout",
     "output_type": "stream",
     "text": [
      "k-NN accuracy for train set: 1.000000\n",
      "k-NN accuracy for test set: 0.998711\n"
     ]
    },
    {
     "data": {
      "text/plain": [
       "{'algorithm': 'auto',\n",
       " 'leaf_size': 30,\n",
       " 'metric': 'minkowski',\n",
       " 'metric_params': None,\n",
       " 'n_jobs': None,\n",
       " 'n_neighbors': 3,\n",
       " 'p': 2,\n",
       " 'weights': 'uniform'}"
      ]
     },
     "execution_count": 9,
     "metadata": {},
     "output_type": "execute_result"
    }
   ],
   "source": [
    "# from sklearn import neighbors\n",
    "\n",
    "# Separate data intro training and test sets\n",
    "x_train, x_test, y_train, y_test = train_test_split(input_features, output_class, test_size=0.20, random_state=50)\n",
    "\n",
    "# Generate kNN model\n",
    "knn = neighbors.KNeighborsClassifier(n_neighbors = 3)\n",
    "# Fit the model using x_train as training data and y_train as target values\n",
    "knn_model_1 = knn.fit(x_train, y_train)\n",
    "\n",
    "# Print accuracy scores\n",
    "print('k-NN accuracy for train set: %f' % knn_model_1.score(x_train, y_train))\n",
    "print('k-NN accuracy for test set: %f'  % knn_model_1.score(x_test, y_test))\n",
    "\n",
    "# Get parameters of model\n",
    "knn.get_params()"
   ]
  },
  {
   "cell_type": "code",
   "execution_count": 10,
   "metadata": {},
   "outputs": [
    {
     "data": {
      "text/plain": [
       "<matplotlib.legend.Legend at 0x242e6d4afd0>"
      ]
     },
     "execution_count": 10,
     "metadata": {},
     "output_type": "execute_result"
    },
    {
     "data": {
      "image/png": "[encoded data removed]",
      "text/plain": [
       "<Figure size 432x288 with 1 Axes>"
      ]
     },
     "metadata": {},
     "output_type": "display_data"
    }
   ],
   "source": [
    "#from sklearn.neighbors import KNeighborsClassifier\n",
    "\n",
    "training_accuracy = []\n",
    "test_accuracy     = []\n",
    "\n",
    "neighbors_settings = range(1, 15)\n",
    "\n",
    "for num_of_neighbors in neighbors_settings:\n",
    "    # se construye el modelo de clasificacion\n",
    "    clf = KNeighborsClassifier(n_neighbors=num_of_neighbors)\n",
    "    clf.fit(x_train, y_train)\n",
    "    # se almacena el \"training set accuracy\"\n",
    "    training_accuracy.append(clf.score(x_train, y_train))\n",
    "    # se almacena la \"generalization accuracy\"\n",
    "    test_accuracy.append(clf.score(x_test, y_test))\n",
    "\n",
    "# Plot results\n",
    "plt.plot(neighbors_settings, training_accuracy, label=\"training accuracy\")\n",
    "plt.plot(neighbors_settings, test_accuracy, label=\"test accuracy\")\n",
    "plt.ylabel(\"Accuracy\")\n",
    "plt.xlabel(\"n_neighbors\")\n",
    "plt.title(\"Model metrics of training and test sets\")\n",
    "plt.legend()"
   ]
  },
  {
   "cell_type": "markdown",
   "metadata": {},
   "source": [
    "## Árboles de decisión"
   ]
  },
  {
   "cell_type": "code",
   "execution_count": 11,
   "metadata": {},
   "outputs": [
    {
     "name": "stdout",
     "output_type": "stream",
     "text": [
      "Accuracy on training set: 1.000\n",
      "Accuracy on test set: 0.965\n"
     ]
    }
   ],
   "source": [
    "#from sklearn.tree import DecisionTreeClassifier\n",
    "\n",
    "decision_tree = DecisionTreeClassifier(random_state=0)\n",
    "decision_tree.fit(x_train, y_train)\n",
    "\n",
    "print(\"Accuracy on training set: {:.3f}\".format(decision_tree.score(x_train, y_train)))\n",
    "print(\"Accuracy on test set: {:.3f}\".format(decision_tree.score(x_test, y_test)))"
   ]
  },
  {
   "cell_type": "code",
   "execution_count": 12,
   "metadata": {},
   "outputs": [
    {
     "name": "stdout",
     "output_type": "stream",
     "text": [
      "Accuracy on training set: 0.722\n",
      "Accuracy on test set: 0.687\n"
     ]
    }
   ],
   "source": [
    "decision_tree = DecisionTreeClassifier(max_depth=3, random_state=0)\n",
    "decision_tree.fit(x_train, y_train)\n",
    "\n",
    "print(\"Accuracy on training set: {:.3f}\".format(decision_tree.score(x_train, y_train)))\n",
    "print(\"Accuracy on test set: {:.3f}\".format(decision_tree.score(x_test, y_test)))"
   ]
  },
  {
   "cell_type": "code",
   "execution_count": 13,
   "metadata": {},
   "outputs": [
    {
     "name": "stdout",
     "output_type": "stream",
     "text": [
      "Accuracy on training set: 0.996\n",
      "Accuracy on test set: 0.966\n"
     ]
    }
   ],
   "source": [
    "decision_tree = DecisionTreeClassifier(min_samples_split=5, random_state=0)\n",
    "decision_tree.fit(x_train, y_train)\n",
    "\n",
    "print(\"Accuracy on training set: {:.3f}\".format(decision_tree.score(x_train, y_train)))\n",
    "print(\"Accuracy on test set: {:.3f}\".format(decision_tree.score(x_test, y_test)))"
   ]
  },
  {
   "cell_type": "code",
   "execution_count": 14,
   "metadata": {},
   "outputs": [
    {
     "name": "stdout",
     "output_type": "stream",
     "text": [
      "Feature importances:\n",
      "[0.00302695 0.00166068 0.0028365  0.00671369 0.00442718 0.00719018\n",
      " 0.00379368 0.12015131 0.05672513 0.02933453 0.21548904 0.0248665\n",
      " 0.18329986 0.00898224 0.29182387 0.03967866]\n"
     ]
    }
   ],
   "source": [
    "print(\"Feature importances:\\n{}\".format(decision_tree.feature_importances_))"
   ]
  },
  {
   "cell_type": "code",
   "execution_count": 15,
   "metadata": {
    "scrolled": false
   },
   "outputs": [
    {
     "data": {
      "image/svg+xml": [
       "<?xml version=\"1.0\" encoding=\"UTF-8\" standalone=\"no\"?>\r\n",
       "<!DOCTYPE svg PUBLIC \"-//W3C//DTD SVG 1.1//EN\"\r\n",
       " \"http://www.w3.org/Graphics/SVG/1.1/DTD/svg11.dtd\">\r\n",
       "<!-- Generated by graphviz version 2.38.0 (20140413.2041)\r\n",
       " -->\r\n",
       "<!-- Title: Tree Pages: 1 -->\r\n",
       "<svg width=\"1045pt\" height=\"520pt\"\r\n",
       " viewBox=\"0.00 0.00 1044.50 520.00\" xmlns=\"http://www.w3.org/2000/svg\" xmlns:xlink=\"http://www.w3.org/1999/xlink\">\r\n",
       "<g id=\"graph0\" class=\"graph\" transform=\"scale(1 1) rotate(0) translate(4 516)\">\r\n",
       "<title>Tree</title>\r\n",
       "<polygon fill=\"white\" stroke=\"none\" points=\"-4,4 -4,-516 1040.5,-516 1040.5,4 -4,4\"/>\r\n",
       "<!-- 0 -->\r\n",
       "<g id=\"node1\" class=\"node\"><title>0</title>\r\n",
       "<polygon fill=\"none\" stroke=\"black\" points=\"571,-512 370,-512 370,-429 571,-429 571,-512\"/>\r\n",
       "<text text-anchor=\"middle\" x=\"470.5\" y=\"-496.8\" font-family=\"Times New Roman,serif\" font-size=\"14.00\">x2ybr &lt;= 2.5</text>\r\n",
       "<text text-anchor=\"middle\" x=\"470.5\" y=\"-481.8\" font-family=\"Times New Roman,serif\" font-size=\"14.00\">gini = 0.8</text>\r\n",
       "<text text-anchor=\"middle\" x=\"470.5\" y=\"-466.8\" font-family=\"Times New Roman,serif\" font-size=\"14.00\">samples = 3102</text>\r\n",
       "<text text-anchor=\"middle\" x=\"470.5\" y=\"-451.8\" font-family=\"Times New Roman,serif\" font-size=\"14.00\">value = [626, 605, 615, 601, 655]</text>\r\n",
       "<text text-anchor=\"middle\" x=\"470.5\" y=\"-436.8\" font-family=\"Times New Roman,serif\" font-size=\"14.00\">class = U</text>\r\n",
       "</g>\r\n",
       "<!-- 1 -->\r\n",
       "<g id=\"node2\" class=\"node\"><title>1</title>\r\n",
       "<polygon fill=\"none\" stroke=\"black\" points=\"448,-393 301,-393 301,-310 448,-310 448,-393\"/>\r\n",
       "<text text-anchor=\"middle\" x=\"374.5\" y=\"-377.8\" font-family=\"Times New Roman,serif\" font-size=\"14.00\">yegvx &lt;= 10.5</text>\r\n",
       "<text text-anchor=\"middle\" x=\"374.5\" y=\"-362.8\" font-family=\"Times New Roman,serif\" font-size=\"14.00\">gini = 0.024</text>\r\n",
       "<text text-anchor=\"middle\" x=\"374.5\" y=\"-347.8\" font-family=\"Times New Roman,serif\" font-size=\"14.00\">samples = 504</text>\r\n",
       "<text text-anchor=\"middle\" x=\"374.5\" y=\"-332.8\" font-family=\"Times New Roman,serif\" font-size=\"14.00\">value = [498, 0, 6, 0, 0]</text>\r\n",
       "<text text-anchor=\"middle\" x=\"374.5\" y=\"-317.8\" font-family=\"Times New Roman,serif\" font-size=\"14.00\">class = A</text>\r\n",
       "</g>\r\n",
       "<!-- 0&#45;&gt;1 -->\r\n",
       "<g id=\"edge1\" class=\"edge\"><title>0&#45;&gt;1</title>\r\n",
       "<path fill=\"none\" stroke=\"black\" d=\"M437.193,-428.907C429.747,-419.832 421.779,-410.121 414.106,-400.769\"/>\r\n",
       "<polygon fill=\"black\" stroke=\"black\" points=\"416.797,-398.531 407.748,-393.021 411.385,-402.972 416.797,-398.531\"/>\r\n",
       "<text text-anchor=\"middle\" x=\"405.295\" y=\"-414.2\" font-family=\"Times New Roman,serif\" font-size=\"14.00\">True</text>\r\n",
       "</g>\r\n",
       "<!-- 10 -->\r\n",
       "<g id=\"node9\" class=\"node\"><title>10</title>\r\n",
       "<polygon fill=\"none\" stroke=\"black\" points=\"667,-393 466,-393 466,-310 667,-310 667,-393\"/>\r\n",
       "<text text-anchor=\"middle\" x=\"566.5\" y=\"-377.8\" font-family=\"Times New Roman,serif\" font-size=\"14.00\">x_ege &lt;= 1.5</text>\r\n",
       "<text text-anchor=\"middle\" x=\"566.5\" y=\"-362.8\" font-family=\"Times New Roman,serif\" font-size=\"14.00\">gini = 0.771</text>\r\n",
       "<text text-anchor=\"middle\" x=\"566.5\" y=\"-347.8\" font-family=\"Times New Roman,serif\" font-size=\"14.00\">samples = 2598</text>\r\n",
       "<text text-anchor=\"middle\" x=\"566.5\" y=\"-332.8\" font-family=\"Times New Roman,serif\" font-size=\"14.00\">value = [128, 605, 609, 601, 655]</text>\r\n",
       "<text text-anchor=\"middle\" x=\"566.5\" y=\"-317.8\" font-family=\"Times New Roman,serif\" font-size=\"14.00\">class = U</text>\r\n",
       "</g>\r\n",
       "<!-- 0&#45;&gt;10 -->\r\n",
       "<g id=\"edge8\" class=\"edge\"><title>0&#45;&gt;10</title>\r\n",
       "<path fill=\"none\" stroke=\"black\" d=\"M503.807,-428.907C511.253,-419.832 519.221,-410.121 526.894,-400.769\"/>\r\n",
       "<polygon fill=\"black\" stroke=\"black\" points=\"529.615,-402.972 533.252,-393.021 524.203,-398.531 529.615,-402.972\"/>\r\n",
       "<text text-anchor=\"middle\" x=\"535.705\" y=\"-414.2\" font-family=\"Times New Roman,serif\" font-size=\"14.00\">False</text>\r\n",
       "</g>\r\n",
       "<!-- 2 -->\r\n",
       "<g id=\"node3\" class=\"node\"><title>2</title>\r\n",
       "<polygon fill=\"none\" stroke=\"black\" points=\"296,-274 149,-274 149,-191 296,-191 296,-274\"/>\r\n",
       "<text text-anchor=\"middle\" x=\"222.5\" y=\"-258.8\" font-family=\"Times New Roman,serif\" font-size=\"14.00\">y_box &lt;= 14.0</text>\r\n",
       "<text text-anchor=\"middle\" x=\"222.5\" y=\"-243.8\" font-family=\"Times New Roman,serif\" font-size=\"14.00\">gini = 0.008</text>\r\n",
       "<text text-anchor=\"middle\" x=\"222.5\" y=\"-228.8\" font-family=\"Times New Roman,serif\" font-size=\"14.00\">samples = 500</text>\r\n",
       "<text text-anchor=\"middle\" x=\"222.5\" y=\"-213.8\" font-family=\"Times New Roman,serif\" font-size=\"14.00\">value = [498, 0, 2, 0, 0]</text>\r\n",
       "<text text-anchor=\"middle\" x=\"222.5\" y=\"-198.8\" font-family=\"Times New Roman,serif\" font-size=\"14.00\">class = A</text>\r\n",
       "</g>\r\n",
       "<!-- 1&#45;&gt;2 -->\r\n",
       "<g id=\"edge2\" class=\"edge\"><title>1&#45;&gt;2</title>\r\n",
       "<path fill=\"none\" stroke=\"black\" d=\"M321.764,-309.907C309.385,-300.379 296.094,-290.148 283.39,-280.37\"/>\r\n",
       "<polygon fill=\"black\" stroke=\"black\" points=\"285.202,-277.347 275.142,-274.021 280.932,-282.894 285.202,-277.347\"/>\r\n",
       "</g>\r\n",
       "<!-- 9 -->\r\n",
       "<g id=\"node8\" class=\"node\"><title>9</title>\r\n",
       "<polygon fill=\"none\" stroke=\"black\" points=\"448.5,-266.5 314.5,-266.5 314.5,-198.5 448.5,-198.5 448.5,-266.5\"/>\r\n",
       "<text text-anchor=\"middle\" x=\"381.5\" y=\"-251.3\" font-family=\"Times New Roman,serif\" font-size=\"14.00\">gini = 0.0</text>\r\n",
       "<text text-anchor=\"middle\" x=\"381.5\" y=\"-236.3\" font-family=\"Times New Roman,serif\" font-size=\"14.00\">samples = 4</text>\r\n",
       "<text text-anchor=\"middle\" x=\"381.5\" y=\"-221.3\" font-family=\"Times New Roman,serif\" font-size=\"14.00\">value = [0, 0, 4, 0, 0]</text>\r\n",
       "<text text-anchor=\"middle\" x=\"381.5\" y=\"-206.3\" font-family=\"Times New Roman,serif\" font-size=\"14.00\">class = I</text>\r\n",
       "</g>\r\n",
       "<!-- 1&#45;&gt;9 -->\r\n",
       "<g id=\"edge7\" class=\"edge\"><title>1&#45;&gt;9</title>\r\n",
       "<path fill=\"none\" stroke=\"black\" d=\"M376.929,-309.907C377.569,-299.204 378.262,-287.615 378.911,-276.776\"/>\r\n",
       "<polygon fill=\"black\" stroke=\"black\" points=\"382.412,-276.858 379.516,-266.667 375.425,-276.44 382.412,-276.858\"/>\r\n",
       "</g>\r\n",
       "<!-- 3 -->\r\n",
       "<g id=\"node4\" class=\"node\"><title>3</title>\r\n",
       "<polygon fill=\"none\" stroke=\"black\" points=\"147,-155 0,-155 0,-72 147,-72 147,-155\"/>\r\n",
       "<text text-anchor=\"middle\" x=\"73.5\" y=\"-139.8\" font-family=\"Times New Roman,serif\" font-size=\"14.00\">y_box &lt;= 11.5</text>\r\n",
       "<text text-anchor=\"middle\" x=\"73.5\" y=\"-124.8\" font-family=\"Times New Roman,serif\" font-size=\"14.00\">gini = 0.004</text>\r\n",
       "<text text-anchor=\"middle\" x=\"73.5\" y=\"-109.8\" font-family=\"Times New Roman,serif\" font-size=\"14.00\">samples = 499</text>\r\n",
       "<text text-anchor=\"middle\" x=\"73.5\" y=\"-94.8\" font-family=\"Times New Roman,serif\" font-size=\"14.00\">value = [498, 0, 1, 0, 0]</text>\r\n",
       "<text text-anchor=\"middle\" x=\"73.5\" y=\"-79.8\" font-family=\"Times New Roman,serif\" font-size=\"14.00\">class = A</text>\r\n",
       "</g>\r\n",
       "<!-- 2&#45;&gt;3 -->\r\n",
       "<g id=\"edge3\" class=\"edge\"><title>2&#45;&gt;3</title>\r\n",
       "<path fill=\"none\" stroke=\"black\" d=\"M170.805,-190.907C158.67,-181.379 145.642,-171.148 133.189,-161.37\"/>\r\n",
       "<polygon fill=\"black\" stroke=\"black\" points=\"135.13,-158.444 125.103,-155.021 130.807,-163.949 135.13,-158.444\"/>\r\n",
       "</g>\r\n",
       "<!-- 8 -->\r\n",
       "<g id=\"node7\" class=\"node\"><title>8</title>\r\n",
       "<polygon fill=\"none\" stroke=\"black\" points=\"299.5,-147.5 165.5,-147.5 165.5,-79.5 299.5,-79.5 299.5,-147.5\"/>\r\n",
       "<text text-anchor=\"middle\" x=\"232.5\" y=\"-132.3\" font-family=\"Times New Roman,serif\" font-size=\"14.00\">gini = 0.0</text>\r\n",
       "<text text-anchor=\"middle\" x=\"232.5\" y=\"-117.3\" font-family=\"Times New Roman,serif\" font-size=\"14.00\">samples = 1</text>\r\n",
       "<text text-anchor=\"middle\" x=\"232.5\" y=\"-102.3\" font-family=\"Times New Roman,serif\" font-size=\"14.00\">value = [0, 0, 1, 0, 0]</text>\r\n",
       "<text text-anchor=\"middle\" x=\"232.5\" y=\"-87.3\" font-family=\"Times New Roman,serif\" font-size=\"14.00\">class = I</text>\r\n",
       "</g>\r\n",
       "<!-- 2&#45;&gt;8 -->\r\n",
       "<g id=\"edge6\" class=\"edge\"><title>2&#45;&gt;8</title>\r\n",
       "<path fill=\"none\" stroke=\"black\" d=\"M225.969,-190.907C226.884,-180.204 227.875,-168.615 228.801,-157.776\"/>\r\n",
       "<polygon fill=\"black\" stroke=\"black\" points=\"232.301,-157.929 229.665,-147.667 225.326,-157.333 232.301,-157.929\"/>\r\n",
       "</g>\r\n",
       "<!-- 4 -->\r\n",
       "<g id=\"node5\" class=\"node\"><title>4</title>\r\n",
       "<polygon fill=\"none\" stroke=\"black\" points=\"64.5,-36 10.5,-36 10.5,-0 64.5,-0 64.5,-36\"/>\r\n",
       "<text text-anchor=\"middle\" x=\"37.5\" y=\"-14.3\" font-family=\"Times New Roman,serif\" font-size=\"14.00\">(...)</text>\r\n",
       "</g>\r\n",
       "<!-- 3&#45;&gt;4 -->\r\n",
       "<g id=\"edge4\" class=\"edge\"><title>3&#45;&gt;4</title>\r\n",
       "<path fill=\"none\" stroke=\"black\" d=\"M57.8146,-71.7615C54.4573,-63.0419 50.9907,-54.0385 47.8927,-45.9921\"/>\r\n",
       "<polygon fill=\"black\" stroke=\"black\" points=\"51.0609,-44.4797 44.2014,-36.4051 44.5284,-46.9949 51.0609,-44.4797\"/>\r\n",
       "</g>\r\n",
       "<!-- 5 -->\r\n",
       "<g id=\"node6\" class=\"node\"><title>5</title>\r\n",
       "<polygon fill=\"none\" stroke=\"black\" points=\"136.5,-36 82.5,-36 82.5,-0 136.5,-0 136.5,-36\"/>\r\n",
       "<text text-anchor=\"middle\" x=\"109.5\" y=\"-14.3\" font-family=\"Times New Roman,serif\" font-size=\"14.00\">(...)</text>\r\n",
       "</g>\r\n",
       "<!-- 3&#45;&gt;5 -->\r\n",
       "<g id=\"edge5\" class=\"edge\"><title>3&#45;&gt;5</title>\r\n",
       "<path fill=\"none\" stroke=\"black\" d=\"M89.1854,-71.7615C92.5427,-63.0419 96.0093,-54.0385 99.1073,-45.9921\"/>\r\n",
       "<polygon fill=\"black\" stroke=\"black\" points=\"102.472,-46.9949 102.799,-36.4051 95.9391,-44.4797 102.472,-46.9949\"/>\r\n",
       "</g>\r\n",
       "<!-- 11 -->\r\n",
       "<g id=\"node10\" class=\"node\"><title>11</title>\r\n",
       "<polygon fill=\"none\" stroke=\"black\" points=\"641,-274 480,-274 480,-191 641,-191 641,-274\"/>\r\n",
       "<text text-anchor=\"middle\" x=\"560.5\" y=\"-258.8\" font-family=\"Times New Roman,serif\" font-size=\"14.00\">y_ege &lt;= 5.5</text>\r\n",
       "<text text-anchor=\"middle\" x=\"560.5\" y=\"-243.8\" font-family=\"Times New Roman,serif\" font-size=\"14.00\">gini = 0.388</text>\r\n",
       "<text text-anchor=\"middle\" x=\"560.5\" y=\"-228.8\" font-family=\"Times New Roman,serif\" font-size=\"14.00\">samples = 700</text>\r\n",
       "<text text-anchor=\"middle\" x=\"560.5\" y=\"-213.8\" font-family=\"Times New Roman,serif\" font-size=\"14.00\">value = [1, 183, 516, 0, 0]</text>\r\n",
       "<text text-anchor=\"middle\" x=\"560.5\" y=\"-198.8\" font-family=\"Times New Roman,serif\" font-size=\"14.00\">class = I</text>\r\n",
       "</g>\r\n",
       "<!-- 10&#45;&gt;11 -->\r\n",
       "<g id=\"edge9\" class=\"edge\"><title>10&#45;&gt;11</title>\r\n",
       "<path fill=\"none\" stroke=\"black\" d=\"M564.418,-309.907C563.99,-301.558 563.534,-292.671 563.091,-284.02\"/>\r\n",
       "<polygon fill=\"black\" stroke=\"black\" points=\"566.586,-283.828 562.578,-274.021 559.595,-284.187 566.586,-283.828\"/>\r\n",
       "</g>\r\n",
       "<!-- 22 -->\r\n",
       "<g id=\"node15\" class=\"node\"><title>22</title>\r\n",
       "<polygon fill=\"none\" stroke=\"black\" points=\"853.5,-274 659.5,-274 659.5,-191 853.5,-191 853.5,-274\"/>\r\n",
       "<text text-anchor=\"middle\" x=\"756.5\" y=\"-258.8\" font-family=\"Times New Roman,serif\" font-size=\"14.00\">y_ege &lt;= 2.5</text>\r\n",
       "<text text-anchor=\"middle\" x=\"756.5\" y=\"-243.8\" font-family=\"Times New Roman,serif\" font-size=\"14.00\">gini = 0.724</text>\r\n",
       "<text text-anchor=\"middle\" x=\"756.5\" y=\"-228.8\" font-family=\"Times New Roman,serif\" font-size=\"14.00\">samples = 1898</text>\r\n",
       "<text text-anchor=\"middle\" x=\"756.5\" y=\"-213.8\" font-family=\"Times New Roman,serif\" font-size=\"14.00\">value = [127, 422, 93, 601, 655]</text>\r\n",
       "<text text-anchor=\"middle\" x=\"756.5\" y=\"-198.8\" font-family=\"Times New Roman,serif\" font-size=\"14.00\">class = U</text>\r\n",
       "</g>\r\n",
       "<!-- 10&#45;&gt;22 -->\r\n",
       "<g id=\"edge14\" class=\"edge\"><title>10&#45;&gt;22</title>\r\n",
       "<path fill=\"none\" stroke=\"black\" d=\"M632.42,-309.907C648.336,-300.106 665.457,-289.563 681.746,-279.533\"/>\r\n",
       "<polygon fill=\"black\" stroke=\"black\" points=\"684.017,-282.245 690.697,-274.021 680.347,-276.284 684.017,-282.245\"/>\r\n",
       "</g>\r\n",
       "<!-- 12 -->\r\n",
       "<g id=\"node11\" class=\"node\"><title>12</title>\r\n",
       "<polygon fill=\"none\" stroke=\"black\" points=\"481.5,-155 327.5,-155 327.5,-72 481.5,-72 481.5,-155\"/>\r\n",
       "<text text-anchor=\"middle\" x=\"404.5\" y=\"-139.8\" font-family=\"Times New Roman,serif\" font-size=\"14.00\">x_ege &lt;= 0.5</text>\r\n",
       "<text text-anchor=\"middle\" x=\"404.5\" y=\"-124.8\" font-family=\"Times New Roman,serif\" font-size=\"14.00\">gini = 0.069</text>\r\n",
       "<text text-anchor=\"middle\" x=\"404.5\" y=\"-109.8\" font-family=\"Times New Roman,serif\" font-size=\"14.00\">samples = 535</text>\r\n",
       "<text text-anchor=\"middle\" x=\"404.5\" y=\"-94.8\" font-family=\"Times New Roman,serif\" font-size=\"14.00\">value = [1, 18, 516, 0, 0]</text>\r\n",
       "<text text-anchor=\"middle\" x=\"404.5\" y=\"-79.8\" font-family=\"Times New Roman,serif\" font-size=\"14.00\">class = I</text>\r\n",
       "</g>\r\n",
       "<!-- 11&#45;&gt;12 -->\r\n",
       "<g id=\"edge10\" class=\"edge\"><title>11&#45;&gt;12</title>\r\n",
       "<path fill=\"none\" stroke=\"black\" d=\"M506.377,-190.907C493.55,-181.288 479.771,-170.953 466.62,-161.09\"/>\r\n",
       "<polygon fill=\"black\" stroke=\"black\" points=\"468.628,-158.221 458.528,-155.021 464.428,-163.821 468.628,-158.221\"/>\r\n",
       "</g>\r\n",
       "<!-- 21 -->\r\n",
       "<g id=\"node14\" class=\"node\"><title>21</title>\r\n",
       "<polygon fill=\"none\" stroke=\"black\" points=\"647,-147.5 500,-147.5 500,-79.5 647,-79.5 647,-147.5\"/>\r\n",
       "<text text-anchor=\"middle\" x=\"573.5\" y=\"-132.3\" font-family=\"Times New Roman,serif\" font-size=\"14.00\">gini = 0.0</text>\r\n",
       "<text text-anchor=\"middle\" x=\"573.5\" y=\"-117.3\" font-family=\"Times New Roman,serif\" font-size=\"14.00\">samples = 165</text>\r\n",
       "<text text-anchor=\"middle\" x=\"573.5\" y=\"-102.3\" font-family=\"Times New Roman,serif\" font-size=\"14.00\">value = [0, 165, 0, 0, 0]</text>\r\n",
       "<text text-anchor=\"middle\" x=\"573.5\" y=\"-87.3\" font-family=\"Times New Roman,serif\" font-size=\"14.00\">class = E</text>\r\n",
       "</g>\r\n",
       "<!-- 11&#45;&gt;21 -->\r\n",
       "<g id=\"edge13\" class=\"edge\"><title>11&#45;&gt;21</title>\r\n",
       "<path fill=\"none\" stroke=\"black\" d=\"M565.01,-190.907C566.2,-180.204 567.487,-168.615 568.692,-157.776\"/>\r\n",
       "<polygon fill=\"black\" stroke=\"black\" points=\"572.189,-157.992 569.815,-147.667 565.232,-157.219 572.189,-157.992\"/>\r\n",
       "</g>\r\n",
       "<!-- 13 -->\r\n",
       "<g id=\"node12\" class=\"node\"><title>13</title>\r\n",
       "<polygon fill=\"none\" stroke=\"black\" points=\"395.5,-36 341.5,-36 341.5,-0 395.5,-0 395.5,-36\"/>\r\n",
       "<text text-anchor=\"middle\" x=\"368.5\" y=\"-14.3\" font-family=\"Times New Roman,serif\" font-size=\"14.00\">(...)</text>\r\n",
       "</g>\r\n",
       "<!-- 12&#45;&gt;13 -->\r\n",
       "<g id=\"edge11\" class=\"edge\"><title>12&#45;&gt;13</title>\r\n",
       "<path fill=\"none\" stroke=\"black\" d=\"M388.815,-71.7615C385.457,-63.0419 381.991,-54.0385 378.893,-45.9921\"/>\r\n",
       "<polygon fill=\"black\" stroke=\"black\" points=\"382.061,-44.4797 375.201,-36.4051 375.528,-46.9949 382.061,-44.4797\"/>\r\n",
       "</g>\r\n",
       "<!-- 16 -->\r\n",
       "<g id=\"node13\" class=\"node\"><title>16</title>\r\n",
       "<polygon fill=\"none\" stroke=\"black\" points=\"467.5,-36 413.5,-36 413.5,-0 467.5,-0 467.5,-36\"/>\r\n",
       "<text text-anchor=\"middle\" x=\"440.5\" y=\"-14.3\" font-family=\"Times New Roman,serif\" font-size=\"14.00\">(...)</text>\r\n",
       "</g>\r\n",
       "<!-- 12&#45;&gt;16 -->\r\n",
       "<g id=\"edge12\" class=\"edge\"><title>12&#45;&gt;16</title>\r\n",
       "<path fill=\"none\" stroke=\"black\" d=\"M420.185,-71.7615C423.543,-63.0419 427.009,-54.0385 430.107,-45.9921\"/>\r\n",
       "<polygon fill=\"black\" stroke=\"black\" points=\"433.472,-46.9949 433.799,-36.4051 426.939,-44.4797 433.472,-46.9949\"/>\r\n",
       "</g>\r\n",
       "<!-- 23 -->\r\n",
       "<g id=\"node16\" class=\"node\"><title>23</title>\r\n",
       "<polygon fill=\"none\" stroke=\"black\" points=\"824.5,-155 670.5,-155 670.5,-72 824.5,-72 824.5,-155\"/>\r\n",
       "<text text-anchor=\"middle\" x=\"747.5\" y=\"-139.8\" font-family=\"Times New Roman,serif\" font-size=\"14.00\">x_ege &lt;= 2.5</text>\r\n",
       "<text text-anchor=\"middle\" x=\"747.5\" y=\"-124.8\" font-family=\"Times New Roman,serif\" font-size=\"14.00\">gini = 0.178</text>\r\n",
       "<text text-anchor=\"middle\" x=\"747.5\" y=\"-109.8\" font-family=\"Times New Roman,serif\" font-size=\"14.00\">samples = 561</text>\r\n",
       "<text text-anchor=\"middle\" x=\"747.5\" y=\"-94.8\" font-family=\"Times New Roman,serif\" font-size=\"14.00\">value = [5, 0, 0, 50, 506]</text>\r\n",
       "<text text-anchor=\"middle\" x=\"747.5\" y=\"-79.8\" font-family=\"Times New Roman,serif\" font-size=\"14.00\">class = U</text>\r\n",
       "</g>\r\n",
       "<!-- 22&#45;&gt;23 -->\r\n",
       "<g id=\"edge15\" class=\"edge\"><title>22&#45;&gt;23</title>\r\n",
       "<path fill=\"none\" stroke=\"black\" d=\"M753.377,-190.907C752.735,-182.558 752.052,-173.671 751.386,-165.02\"/>\r\n",
       "<polygon fill=\"black\" stroke=\"black\" points=\"754.874,-164.723 750.617,-155.021 747.894,-165.26 754.874,-164.723\"/>\r\n",
       "</g>\r\n",
       "<!-- 40 -->\r\n",
       "<g id=\"node19\" class=\"node\"><title>40</title>\r\n",
       "<polygon fill=\"none\" stroke=\"black\" points=\"1036.5,-155 842.5,-155 842.5,-72 1036.5,-72 1036.5,-155\"/>\r\n",
       "<text text-anchor=\"middle\" x=\"939.5\" y=\"-139.8\" font-family=\"Times New Roman,serif\" font-size=\"14.00\">x2bar &lt;= 6.5</text>\r\n",
       "<text text-anchor=\"middle\" x=\"939.5\" y=\"-124.8\" font-family=\"Times New Roman,serif\" font-size=\"14.00\">gini = 0.705</text>\r\n",
       "<text text-anchor=\"middle\" x=\"939.5\" y=\"-109.8\" font-family=\"Times New Roman,serif\" font-size=\"14.00\">samples = 1337</text>\r\n",
       "<text text-anchor=\"middle\" x=\"939.5\" y=\"-94.8\" font-family=\"Times New Roman,serif\" font-size=\"14.00\">value = [122, 422, 93, 551, 149]</text>\r\n",
       "<text text-anchor=\"middle\" x=\"939.5\" y=\"-79.8\" font-family=\"Times New Roman,serif\" font-size=\"14.00\">class = O</text>\r\n",
       "</g>\r\n",
       "<!-- 22&#45;&gt;40 -->\r\n",
       "<g id=\"edge18\" class=\"edge\"><title>22&#45;&gt;40</title>\r\n",
       "<path fill=\"none\" stroke=\"black\" d=\"M819.991,-190.907C835.321,-181.106 851.812,-170.563 867.5,-160.533\"/>\r\n",
       "<polygon fill=\"black\" stroke=\"black\" points=\"869.581,-163.356 876.121,-155.021 865.811,-157.459 869.581,-163.356\"/>\r\n",
       "</g>\r\n",
       "<!-- 24 -->\r\n",
       "<g id=\"node17\" class=\"node\"><title>24</title>\r\n",
       "<polygon fill=\"none\" stroke=\"black\" points=\"738.5,-36 684.5,-36 684.5,-0 738.5,-0 738.5,-36\"/>\r\n",
       "<text text-anchor=\"middle\" x=\"711.5\" y=\"-14.3\" font-family=\"Times New Roman,serif\" font-size=\"14.00\">(...)</text>\r\n",
       "</g>\r\n",
       "<!-- 23&#45;&gt;24 -->\r\n",
       "<g id=\"edge16\" class=\"edge\"><title>23&#45;&gt;24</title>\r\n",
       "<path fill=\"none\" stroke=\"black\" d=\"M731.815,-71.7615C728.457,-63.0419 724.991,-54.0385 721.893,-45.9921\"/>\r\n",
       "<polygon fill=\"black\" stroke=\"black\" points=\"725.061,-44.4797 718.201,-36.4051 718.528,-46.9949 725.061,-44.4797\"/>\r\n",
       "</g>\r\n",
       "<!-- 29 -->\r\n",
       "<g id=\"node18\" class=\"node\"><title>29</title>\r\n",
       "<polygon fill=\"none\" stroke=\"black\" points=\"810.5,-36 756.5,-36 756.5,-0 810.5,-0 810.5,-36\"/>\r\n",
       "<text text-anchor=\"middle\" x=\"783.5\" y=\"-14.3\" font-family=\"Times New Roman,serif\" font-size=\"14.00\">(...)</text>\r\n",
       "</g>\r\n",
       "<!-- 23&#45;&gt;29 -->\r\n",
       "<g id=\"edge17\" class=\"edge\"><title>23&#45;&gt;29</title>\r\n",
       "<path fill=\"none\" stroke=\"black\" d=\"M763.185,-71.7615C766.543,-63.0419 770.009,-54.0385 773.107,-45.9921\"/>\r\n",
       "<polygon fill=\"black\" stroke=\"black\" points=\"776.472,-46.9949 776.799,-36.4051 769.939,-44.4797 776.472,-46.9949\"/>\r\n",
       "</g>\r\n",
       "<!-- 41 -->\r\n",
       "<g id=\"node20\" class=\"node\"><title>41</title>\r\n",
       "<polygon fill=\"none\" stroke=\"black\" points=\"930.5,-36 876.5,-36 876.5,-0 930.5,-0 930.5,-36\"/>\r\n",
       "<text text-anchor=\"middle\" x=\"903.5\" y=\"-14.3\" font-family=\"Times New Roman,serif\" font-size=\"14.00\">(...)</text>\r\n",
       "</g>\r\n",
       "<!-- 40&#45;&gt;41 -->\r\n",
       "<g id=\"edge19\" class=\"edge\"><title>40&#45;&gt;41</title>\r\n",
       "<path fill=\"none\" stroke=\"black\" d=\"M923.815,-71.7615C920.457,-63.0419 916.991,-54.0385 913.893,-45.9921\"/>\r\n",
       "<polygon fill=\"black\" stroke=\"black\" points=\"917.061,-44.4797 910.201,-36.4051 910.528,-46.9949 917.061,-44.4797\"/>\r\n",
       "</g>\r\n",
       "<!-- 154 -->\r\n",
       "<g id=\"node21\" class=\"node\"><title>154</title>\r\n",
       "<polygon fill=\"none\" stroke=\"black\" points=\"1002.5,-36 948.5,-36 948.5,-0 1002.5,-0 1002.5,-36\"/>\r\n",
       "<text text-anchor=\"middle\" x=\"975.5\" y=\"-14.3\" font-family=\"Times New Roman,serif\" font-size=\"14.00\">(...)</text>\r\n",
       "</g>\r\n",
       "<!-- 40&#45;&gt;154 -->\r\n",
       "<g id=\"edge20\" class=\"edge\"><title>40&#45;&gt;154</title>\r\n",
       "<path fill=\"none\" stroke=\"black\" d=\"M955.185,-71.7615C958.543,-63.0419 962.009,-54.0385 965.107,-45.9921\"/>\r\n",
       "<polygon fill=\"black\" stroke=\"black\" points=\"968.472,-46.9949 968.799,-36.4051 961.939,-44.4797 968.472,-46.9949\"/>\r\n",
       "</g>\r\n",
       "</g>\r\n",
       "</svg>\r\n"
      ],
      "text/plain": [
       "<graphviz.files.Source at 0x242e6db9d68>"
      ]
     },
     "execution_count": 15,
     "metadata": {},
     "output_type": "execute_result"
    }
   ],
   "source": [
    "import graphviz\n",
    "from sklearn import tree\n",
    "\n",
    "dot_data = tree.export_graphviz(decision_tree, out_file=None)\n",
    "graph = graphviz.Source(dot_data) \n",
    "#graph.render(\"decision_tree\") \n",
    "\n",
    "dot_data = tree.export_graphviz(decision_tree, \\\n",
    "                               max_depth = 3, \\\n",
    "                               out_file = None,\n",
    "                               feature_names = features,\\\n",
    "                               class_names = [\"A\", \"E\", \"I\", \"O\", \"U\"],\\\n",
    "                               leaves_parallel = False) \n",
    "graph = graphviz.Source(dot_data)  \n",
    "graph"
   ]
  },
  {
   "cell_type": "markdown",
   "metadata": {},
   "source": [
    "## Aprendizaje con Tensorflow"
   ]
  },
  {
   "cell_type": "code",
   "execution_count": 16,
   "metadata": {},
   "outputs": [
    {
     "name": "stdout",
     "output_type": "stream",
     "text": [
      "curses is not supported on this machine (please install/reinstall curses for an optimal experience)\n",
      "WARNING:tensorflow:From C:\\Users\\dkohkemper\\AppData\\Local\\conda\\conda\\envs\\py3_clone\\lib\\site-packages\\tensorflow\\python\\framework\\op_def_library.py:263: colocate_with (from tensorflow.python.framework.ops) is deprecated and will be removed in a future version.\n",
      "Instructions for updating:\n",
      "Colocations handled automatically by placer.\n"
     ]
    }
   ],
   "source": [
    "# Import Numpy, TensorFlow, TFLearn\n",
    "import numpy as np\n",
    "import tensorflow as tf\n",
    "import tflearn"
   ]
  },
  {
   "cell_type": "code",
   "execution_count": 17,
   "metadata": {},
   "outputs": [],
   "source": [
    "from sklearn.model_selection import train_test_split\n",
    "\n",
    "# Separate data intro training and test sets\n",
    "x_train, x_test, y_train, y_test = train_test_split(input_features, output_class_num, test_size=0.20, random_state=50)"
   ]
  },
  {
   "cell_type": "code",
   "execution_count": 18,
   "metadata": {},
   "outputs": [
    {
     "name": "stdout",
     "output_type": "stream",
     "text": [
      "WARNING:tensorflow:From C:\\Users\\dkohkemper\\AppData\\Local\\conda\\conda\\envs\\py3_clone\\lib\\site-packages\\tflearn\\objectives.py:66: calling reduce_sum_v1 (from tensorflow.python.ops.math_ops) with keep_dims is deprecated and will be removed in a future version.\n",
      "Instructions for updating:\n",
      "keep_dims is deprecated, use keepdims instead\n",
      "WARNING:tensorflow:From C:\\Users\\dkohkemper\\AppData\\Local\\conda\\conda\\envs\\py3_clone\\lib\\site-packages\\tensorflow\\python\\ops\\math_ops.py:3066: to_int32 (from tensorflow.python.ops.math_ops) is deprecated and will be removed in a future version.\n",
      "Instructions for updating:\n",
      "Use tf.cast instead.\n"
     ]
    }
   ],
   "source": [
    "tf.reset_default_graph()\n",
    "\n",
    "# Build neural network\n",
    "net = tflearn.input_data(shape=[None, 16])\n",
    "net = tflearn.fully_connected(net, 32)\n",
    "net = tflearn.fully_connected(net, 32)\n",
    "net = tflearn.fully_connected(net, 5, activation='softmax')\n",
    "net = tflearn.regression(net)\n",
    "# Define model\n",
    "model = tflearn.DNN(net)"
   ]
  },
  {
   "cell_type": "code",
   "execution_count": 19,
   "metadata": {},
   "outputs": [
    {
     "name": "stdout",
     "output_type": "stream",
     "text": [
      "Training Step: 5599  | total loss: \u001b[1m\u001b[32m0.56639\u001b[0m\u001b[0m | time: 1.116s\n",
      "| Adam | epoch: 020 | loss: 0.56639 - acc: 0.9447 -- iter: 2790/2791\n",
      "Training Step: 5600  | total loss: \u001b[1m\u001b[32m0.52365\u001b[0m\u001b[0m | time: 2.123s\n",
      "| Adam | epoch: 020 | loss: 0.52365 - acc: 0.9402 | val_loss: 0.10896 - val_acc: 0.9678 -- iter: 2791/2791\n",
      "--\n"
     ]
    }
   ],
   "source": [
    "# Training\n",
    "N = len(y_train)\n",
    "y_train_p = [0]*N\n",
    "for n in range(0,N):\n",
    "    y_train_p[n] = [0]*5\n",
    "    y_train_p[n][y_train[n]] = 1\n",
    "\n",
    "model.fit(x_train, y_train_p, validation_set=0.1, show_metric=True, batch_size=10, n_epoch=20)"
   ]
  },
  {
   "cell_type": "code",
   "execution_count": 20,
   "metadata": {},
   "outputs": [
    {
     "name": "stdout",
     "output_type": "stream",
     "text": [
      "Test accuracy:  0.9432989690721649\n"
     ]
    }
   ],
   "source": [
    "# Find the indices of the best prediction for each test sample.\n",
    "predictions = np.array(model.predict(x_test)).argmax(axis=1)\n",
    "\n",
    "actual = y_test\n",
    "\n",
    "test_accuracy = np.mean(predictions == actual, axis=0)\n",
    "\n",
    "print(\"Test accuracy: \", test_accuracy)"
   ]
  },
  {
   "cell_type": "markdown",
   "metadata": {},
   "source": [
    "## Referencias\n",
    "\n",
    "[1] [Letter Recognition Data Set](https://archive.ics.uci.edu/ml/datasets/Letter+Recognition)\n",
    "\n",
    "[2] [Letter Recognition Using Holland-Style Adaptive Classifiers](http://www.cs.uu.nl/docs/vakken/mpr/Frey-Slate.pdf)"
   ]
  }
 ],
 "metadata": {
  "kernelspec": {
   "display_name": "Python 3",
   "language": "python",
   "name": "python3"
  },
  "language_info": {
   "codemirror_mode": {
    "name": "ipython",
    "version": 3
   },
   "file_extension": ".py",
   "mimetype": "text/x-python",
   "name": "python",
   "nbconvert_exporter": "python",
   "pygments_lexer": "ipython3",
   "version": "3.7.2"
  }
 },
 "nbformat": 4,
 "nbformat_minor": 2
}
